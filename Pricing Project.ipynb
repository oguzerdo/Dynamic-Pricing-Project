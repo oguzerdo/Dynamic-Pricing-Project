{
 "cells": [
  {
   "cell_type": "markdown",
   "metadata": {},
   "source": [
    "<a href=\"https://www.oguzerdogan.com/\">\n",
    "    <img src=\"https://www.oguzerdogan.com/wp-content/uploads/2020/10/logo_oz.png\" width=\"200\" align=\"right\">\n",
    "</a>"
   ]
  },
  {
   "cell_type": "markdown",
   "metadata": {},
   "source": [
    "<center><h1><strong>Fiyatlandırma Projesi</strong></h1>\n",
    "<img\n",
    "src=\"https://www.oguzerdogan.com/wp-content/uploads/2020/11/pricing.png\">\n",
    "</center>"
   ]
  },
  {
   "cell_type": "markdown",
   "metadata": {},
   "source": [
    "<div class=\"alert alert-block alert-info\" style=\"margin-top: 20px\">\n",
    "\n",
    "<p>Bir oyun şirketi bir oyununda kullanıcılarına item satın alımları için hediye paralar vermiştir.</p>\n",
    "<p>Kullanıcılar bu sanal paraları kullanarak karakterlerine çeşitli araçlar satın almaktadır.</p>\n",
    "<p>Oyun şirketi bir item için fiyat belirtmemiş ve kullanıcılardan bu item&#39;ı istedikleri fiyattan almalarını sağlamış.</p>\n",
    "<p>Örneğin kalkan isimli item için kullanıcılar kendi uygun gördükleri miktarları ödeyerek bu kalkanı satın alacaklar.</p>\n",
    "<p>Örneğin bir kullanıcı kendisine verilen sanal paralardan 30 birim, diğer kullanıcı 45 birim ile ödeme yapabilir.</p>\n",
    "<p>Dolayısıyla kullanıcılar kendilerine göre ödemeyi göze aldıkları miktarlar ile bu item&#39;ı satın alabilirler.</p>\n",
    " \n",
    "</div>"
   ]
  },
  {
   "cell_type": "markdown",
   "metadata": {},
   "source": [
    "<div class=\"alert alert-danger\" role=\"alert\">\n",
    "<h1>Çözülmesi gereken problemler:</h1>\n",
    "<ul>\n",
    "<li><ol>\n",
    "<li>Item&#39;in fiyatı kategorilere göre farklılık göstermekte midir? <b>İstatistiki olarak ifade ediniz.</b></li>\n",
    "\n",
    "</ol>\n",
    "</li>\n",
    "<li><ol start='2' >\n",
    "<li>İlk soruya bağlı olarak <b>item&#39;ın fiyatı ne olmalıdır?</b> Nedenini açıklayınız?</li>\n",
    "\n",
    "</ol>\n",
    "</li>\n",
    "<li><ol start='3' >\n",
    "<li>Fiyat konusunda &quot;hareket edebilir olmak&quot; istenmektedir. Fiyat stratejisi için <b>karar destek sistemi</b> oluşturunuz ve</li>\n",
    "\n",
    "</ol>\n",
    "</li>\n",
    "<li><ol start='4' >\n",
    "<li>Olası fiyat değişiklikleri için item satın almalarını ve gelirlerini simüle ediniz.</li>\n",
    "\n",
    "</ol>\n",
    "</li>\n",
    "\n",
    "</ul>\n",
    "<p>&nbsp;</p>\n",
    "</div>"
   ]
  },
  {
   "cell_type": "code",
   "execution_count": 1,
   "metadata": {
    "pycharm": {
     "name": "#%%\n"
    }
   },
   "outputs": [
    {
     "data": {
      "text/html": [
       "<style> \n",
       "@import url('https://fonts.googleapis.com/css?family=Orbitron|Roboto');\n",
       "a {color: #37c9e1; font-family: 'Roboto';} \n",
       "h1 {color: #C20E69; font-family: 'Poppins'} \n",
       "h2, h3 {color: #25B89B; font-family: 'Poppins';}\n",
       "h4 {color: #818286; font-family: 'Roboto';}\n",
       "                                      \n",
       "</style>\n"
      ],
      "text/plain": [
       "<IPython.core.display.HTML object>"
      ]
     },
     "metadata": {},
     "output_type": "display_data"
    }
   ],
   "source": [
    "%%html\n",
    "<style> \n",
    "@import url('https://fonts.googleapis.com/css?family=Orbitron|Roboto');\n",
    "a {color: #37c9e1; font-family: 'Roboto';} \n",
    "h1 {color: #C20E69; font-family: 'Poppins'} \n",
    "h2, h3 {color: #25B89B; font-family: 'Poppins';}\n",
    "h4 {color: #818286; font-family: 'Roboto';}\n",
    "                                      \n",
    "</style>"
   ]
  },
  {
   "cell_type": "markdown",
   "metadata": {
    "pycharm": {
     "name": "#%% md\n"
    }
   },
   "source": [
    "# &#128217; Gerekli Kütüphaneler"
   ]
  },
  {
   "cell_type": "code",
   "execution_count": 2,
   "metadata": {
    "pycharm": {
     "name": "#%%\n"
    }
   },
   "outputs": [],
   "source": [
    "#Main\n",
    "#-----------------------------------\n",
    "import numpy as np\n",
    "import pandas as pd\n",
    "import seaborn as sns\n",
    "import matplotlib.pyplot as plt\n",
    "plt.style.use('fivethirtyeight')\n",
    "\n",
    "# Stats\n",
    "#-----------------------------------\n",
    "from scipy.stats import shapiro\n",
    "import scipy.stats as stats\n",
    "import statsmodels.stats.api as sms\n",
    "import itertools\n",
    "\n",
    "\n",
    "#Others\n",
    "#-----------------------------------\n",
    "import warnings\n",
    "warnings.filterwarnings(\"ignore\")\n",
    "warnings.simplefilter(action=\"ignore\", category=FutureWarning)\n",
    "\n",
    "pd.set_option(\"display.max_columns\", None)\n",
    "pd.options.display.float_format = '{:.4f}'.format"
   ]
  },
  {
   "cell_type": "markdown",
   "metadata": {
    "pycharm": {
     "name": "#%% md\n"
    }
   },
   "source": [
    "# &#128214; Datanın Okutulması"
   ]
  },
  {
   "cell_type": "code",
   "execution_count": 3,
   "metadata": {
    "pycharm": {
     "name": "#%%\n"
    }
   },
   "outputs": [],
   "source": [
    "df = pd.read_csv(r\"C:\\Users\\oe\\VBO\\datasets\\pricing.csv\", sep=\";\")"
   ]
  },
  {
   "cell_type": "code",
   "execution_count": 4,
   "metadata": {},
   "outputs": [
    {
     "data": {
      "text/plain": [
       "(2411.8513433938556, 4097.100195737806)"
      ]
     },
     "execution_count": 4,
     "metadata": {},
     "output_type": "execute_result"
    }
   ],
   "source": [
    "sms.DescrStatsW(df[\"price\"]).tconfint_mean()"
   ]
  },
  {
   "cell_type": "code",
   "execution_count": 5,
   "metadata": {},
   "outputs": [
    {
     "data": {
      "text/plain": [
       "3254.475769565837"
      ]
     },
     "execution_count": 5,
     "metadata": {},
     "output_type": "execute_result"
    }
   ],
   "source": [
    "df[\"price\"].mean()"
   ]
  },
  {
   "cell_type": "markdown",
   "metadata": {
    "pycharm": {
     "name": "#%% md\n"
    }
   },
   "source": [
    "## &#128270; Tanımlayıcı İstatistikler"
   ]
  },
  {
   "cell_type": "code",
   "execution_count": 6,
   "metadata": {},
   "outputs": [
    {
     "data": {
      "text/html": [
       "<div>\n",
       "<style scoped>\n",
       "    .dataframe tbody tr th:only-of-type {\n",
       "        vertical-align: middle;\n",
       "    }\n",
       "\n",
       "    .dataframe tbody tr th {\n",
       "        vertical-align: top;\n",
       "    }\n",
       "\n",
       "    .dataframe thead th {\n",
       "        text-align: right;\n",
       "    }\n",
       "</style>\n",
       "<table border=\"1\" class=\"dataframe\">\n",
       "  <thead>\n",
       "    <tr style=\"text-align: right;\">\n",
       "      <th></th>\n",
       "      <th>category_id</th>\n",
       "      <th>price</th>\n",
       "    </tr>\n",
       "  </thead>\n",
       "  <tbody>\n",
       "    <tr>\n",
       "      <th>0</th>\n",
       "      <td>489756</td>\n",
       "      <td>32.1178</td>\n",
       "    </tr>\n",
       "  </tbody>\n",
       "</table>\n",
       "</div>"
      ],
      "text/plain": [
       "   category_id   price\n",
       "0       489756 32.1178"
      ]
     },
     "execution_count": 6,
     "metadata": {},
     "output_type": "execute_result"
    }
   ],
   "source": [
    "df.head(1)"
   ]
  },
  {
   "cell_type": "code",
   "execution_count": 7,
   "metadata": {},
   "outputs": [
    {
     "name": "stdout",
     "output_type": "stream",
     "text": [
      "<class 'pandas.core.frame.DataFrame'>\n",
      "RangeIndex: 3448 entries, 0 to 3447\n",
      "Data columns (total 2 columns):\n",
      " #   Column       Non-Null Count  Dtype  \n",
      "---  ------       --------------  -----  \n",
      " 0   category_id  3448 non-null   int64  \n",
      " 1   price        3448 non-null   float64\n",
      "dtypes: float64(1), int64(1)\n",
      "memory usage: 54.0 KB\n"
     ]
    }
   ],
   "source": [
    "df.info()"
   ]
  },
  {
   "cell_type": "code",
   "execution_count": 8,
   "metadata": {},
   "outputs": [
    {
     "data": {
      "text/plain": [
       "0"
      ]
     },
     "execution_count": 8,
     "metadata": {},
     "output_type": "execute_result"
    }
   ],
   "source": [
    "# eksik gözlem var mı ?\n",
    "df.isna().any().sum()"
   ]
  },
  {
   "cell_type": "code",
   "execution_count": 9,
   "metadata": {},
   "outputs": [
    {
     "data": {
      "text/plain": [
       "489756    1705\n",
       "874521     750\n",
       "361254     620\n",
       "326584     145\n",
       "675201     131\n",
       "201436      97\n",
       "Name: category_id, dtype: int64"
      ]
     },
     "execution_count": 9,
     "metadata": {},
     "output_type": "execute_result"
    }
   ],
   "source": [
    "df.category_id.value_counts()"
   ]
  },
  {
   "cell_type": "code",
   "execution_count": 10,
   "metadata": {},
   "outputs": [
    {
     "data": {
      "text/plain": [
       "array([489756, 361254, 874521, 326584, 675201, 201436], dtype=int64)"
      ]
     },
     "execution_count": 10,
     "metadata": {},
     "output_type": "execute_result"
    }
   ],
   "source": [
    "df.category_id.unique()"
   ]
  },
  {
   "cell_type": "markdown",
   "metadata": {},
   "source": [
    "---\n",
    "# &#128202; Analiz Raporunun Oluşturulması"
   ]
  },
  {
   "cell_type": "code",
   "execution_count": 11,
   "metadata": {},
   "outputs": [],
   "source": [
    "def analysis(dataframe, category, target, alpha):\n",
    "    \n",
    "    AB = pd.DataFrame()\n",
    "    combin = list(itertools.combinations(df.category_id.unique(),2))\n",
    "    print(\"-\"*20,\"Grup Karşılaştırmaları | alpha güven katsayısı :\",alpha,\"-\"*20,)\n",
    "    for i in range(0, len(combin)):\n",
    "        grA = dataframe[dataframe[category] == combin[i][0]][target]\n",
    "        grB = dataframe[dataframe[category] == combin[i][1]][target]\n",
    "        \n",
    "        #TESTLER\n",
    "        #NORMALLİK VARSAYIMI\n",
    "        normA = shapiro(grA)[1] < alpha\n",
    "        normB = shapiro(grB)[1] < alpha\n",
    "        \n",
    "        # Ho: Seri normal dağılıyor. Ho > 0.05\n",
    "        # H1: Seri normal dağılmıyor. Ho < 0.05\n",
    "        \n",
    "        if (normA == False) & (normB == False):\n",
    "            #İki dağılım da normal. Levene Testine Geçilebilir.\n",
    "            #Levene Testi. Varyanslar homojen mi?\n",
    "            \n",
    "            levene = stats.levene(grA,grB)[1] < alpha\n",
    "            # Ho: Varyanslar homojen. Ho > 0.05\n",
    "            # H1: Varyanslar homojen değil. Ho < 0.05\n",
    "            \n",
    "            if levene == False:\n",
    "                # Varyanslar homojen\n",
    "                \n",
    "                ttest = stats.ttest_ind(grA, grB, equal_var = True)[1]\n",
    "                #Ho: M1=M2 Aralarında fark yok. Ho > 0.05\n",
    "                #H1: M1!=M2 Aralarında fark var. Ho < 0.05\n",
    "            else:\n",
    "                # Varyanslar homojen değil, welch testi\n",
    "                \n",
    "                ttest = stats.ttest_ind(grA, grB, equal_var = False)[1]\n",
    "                #Ho: M1=M2 Aralarında fark yok. Ho > 0.05\n",
    "                #H1: M1!=M2 Aralarında fark var. Ho < 0.05\n",
    "        \n",
    "        else: #Dağılımlardan en az birisi normal değil. non - parametric test\n",
    "            \n",
    "            ttest = stats.mannwhitneyu(grA, grB)[1]\n",
    "            #Ho: M1=M2 Aralarında fark yok. Ho > 0.05\n",
    "            #H1: M1!=M2 Aralarında fark var. Ho < 0.05\n",
    "            \n",
    "        #Sonuç\n",
    "        temp = pd.DataFrame({\"Grup Karşılaştırması\" : [ttest < alpha],\n",
    "                             \"p-value\" : ttest,\n",
    "                             \"GroupA Mean\" : [grA.mean()], \"GroupB Mean\": [grB.mean()],\n",
    "                             \"GroupA Median\" : [grA.median()], \"GroupB Median\": [grB.median()],\n",
    "                             \"GroupA Count\" : [grA.count()], \"GroupB Count\": [grB.count()]}, index = [combin[i]])\n",
    "        \n",
    "        temp[\"Grup Karşılaştırması\"] = np.where(temp[\"Grup Karşılaştırması\"] == True, \"Fark Var\", \"Fark Yok\")\n",
    "        temp[\"Test Tipi\"] = np.where((normA == False) & (normB == False), \"Parametrik\", \"Non-Parametrik\")\n",
    "        \n",
    "        AB = pd.concat([AB,temp[[\"Test Tipi\", \"Grup Karşılaştırması\", \"p-value\",\"GroupA Mean\",\"GroupB Mean\",\"GroupA Median\",\"GroupB Median\",\"GroupA Count\", \"GroupB Count\"]]])\n",
    "    return AB"
   ]
  },
  {
   "cell_type": "markdown",
   "metadata": {},
   "source": [
    "# &#128202; Rapor Sonuçları"
   ]
  },
  {
   "cell_type": "markdown",
   "metadata": {},
   "source": [
    "## 1. İtemin Fiyatı Kategorilere Göre Farklılık Gösteriyor Mu?"
   ]
  },
  {
   "cell_type": "code",
   "execution_count": 12,
   "metadata": {},
   "outputs": [
    {
     "name": "stdout",
     "output_type": "stream",
     "text": [
      "-------------------- Grup Karşılaştırmaları | alpha güven katsayısı : 0.05 --------------------\n"
     ]
    },
    {
     "data": {
      "text/html": [
       "<div>\n",
       "<style scoped>\n",
       "    .dataframe tbody tr th:only-of-type {\n",
       "        vertical-align: middle;\n",
       "    }\n",
       "\n",
       "    .dataframe tbody tr th {\n",
       "        vertical-align: top;\n",
       "    }\n",
       "\n",
       "    .dataframe thead th {\n",
       "        text-align: right;\n",
       "    }\n",
       "</style>\n",
       "<table border=\"1\" class=\"dataframe\">\n",
       "  <thead>\n",
       "    <tr style=\"text-align: right;\">\n",
       "      <th></th>\n",
       "      <th>Test Tipi</th>\n",
       "      <th>Grup Karşılaştırması</th>\n",
       "      <th>p-value</th>\n",
       "      <th>GroupA Mean</th>\n",
       "      <th>GroupB Mean</th>\n",
       "      <th>GroupA Median</th>\n",
       "      <th>GroupB Median</th>\n",
       "      <th>GroupA Count</th>\n",
       "      <th>GroupB Count</th>\n",
       "    </tr>\n",
       "  </thead>\n",
       "  <tbody>\n",
       "    <tr>\n",
       "      <th>(489756, 361254)</th>\n",
       "      <td>Non-Parametrik</td>\n",
       "      <td>Fark Var</td>\n",
       "      <td>0.0000</td>\n",
       "      <td>3589.8085</td>\n",
       "      <td>1659.6807</td>\n",
       "      <td>35.6358</td>\n",
       "      <td>34.4592</td>\n",
       "      <td>1705</td>\n",
       "      <td>620</td>\n",
       "    </tr>\n",
       "    <tr>\n",
       "      <th>(489756, 874521)</th>\n",
       "      <td>Non-Parametrik</td>\n",
       "      <td>Fark Var</td>\n",
       "      <td>0.0000</td>\n",
       "      <td>3589.8085</td>\n",
       "      <td>4605.3573</td>\n",
       "      <td>35.6358</td>\n",
       "      <td>34.4009</td>\n",
       "      <td>1705</td>\n",
       "      <td>750</td>\n",
       "    </tr>\n",
       "    <tr>\n",
       "      <th>(489756, 326584)</th>\n",
       "      <td>Non-Parametrik</td>\n",
       "      <td>Fark Var</td>\n",
       "      <td>0.0000</td>\n",
       "      <td>3589.8085</td>\n",
       "      <td>1424.6652</td>\n",
       "      <td>35.6358</td>\n",
       "      <td>31.7482</td>\n",
       "      <td>1705</td>\n",
       "      <td>145</td>\n",
       "    </tr>\n",
       "    <tr>\n",
       "      <th>(489756, 675201)</th>\n",
       "      <td>Non-Parametrik</td>\n",
       "      <td>Fark Var</td>\n",
       "      <td>0.0000</td>\n",
       "      <td>3589.8085</td>\n",
       "      <td>3112.2404</td>\n",
       "      <td>35.6358</td>\n",
       "      <td>33.8356</td>\n",
       "      <td>1705</td>\n",
       "      <td>131</td>\n",
       "    </tr>\n",
       "    <tr>\n",
       "      <th>(489756, 201436)</th>\n",
       "      <td>Non-Parametrik</td>\n",
       "      <td>Fark Var</td>\n",
       "      <td>0.0000</td>\n",
       "      <td>3589.8085</td>\n",
       "      <td>36.1755</td>\n",
       "      <td>35.6358</td>\n",
       "      <td>33.5347</td>\n",
       "      <td>1705</td>\n",
       "      <td>97</td>\n",
       "    </tr>\n",
       "    <tr>\n",
       "      <th>(361254, 874521)</th>\n",
       "      <td>Non-Parametrik</td>\n",
       "      <td>Fark Var</td>\n",
       "      <td>0.0242</td>\n",
       "      <td>1659.6807</td>\n",
       "      <td>4605.3573</td>\n",
       "      <td>34.4592</td>\n",
       "      <td>34.4009</td>\n",
       "      <td>620</td>\n",
       "      <td>750</td>\n",
       "    </tr>\n",
       "    <tr>\n",
       "      <th>(361254, 326584)</th>\n",
       "      <td>Non-Parametrik</td>\n",
       "      <td>Fark Var</td>\n",
       "      <td>0.0000</td>\n",
       "      <td>1659.6807</td>\n",
       "      <td>1424.6652</td>\n",
       "      <td>34.4592</td>\n",
       "      <td>31.7482</td>\n",
       "      <td>620</td>\n",
       "      <td>145</td>\n",
       "    </tr>\n",
       "    <tr>\n",
       "      <th>(361254, 675201)</th>\n",
       "      <td>Non-Parametrik</td>\n",
       "      <td>Fark Yok</td>\n",
       "      <td>0.3251</td>\n",
       "      <td>1659.6807</td>\n",
       "      <td>3112.2404</td>\n",
       "      <td>34.4592</td>\n",
       "      <td>33.8356</td>\n",
       "      <td>620</td>\n",
       "      <td>131</td>\n",
       "    </tr>\n",
       "    <tr>\n",
       "      <th>(361254, 201436)</th>\n",
       "      <td>Non-Parametrik</td>\n",
       "      <td>Fark Yok</td>\n",
       "      <td>0.4866</td>\n",
       "      <td>1659.6807</td>\n",
       "      <td>36.1755</td>\n",
       "      <td>34.4592</td>\n",
       "      <td>33.5347</td>\n",
       "      <td>620</td>\n",
       "      <td>97</td>\n",
       "    </tr>\n",
       "    <tr>\n",
       "      <th>(874521, 326584)</th>\n",
       "      <td>Non-Parametrik</td>\n",
       "      <td>Fark Var</td>\n",
       "      <td>0.0000</td>\n",
       "      <td>4605.3573</td>\n",
       "      <td>1424.6652</td>\n",
       "      <td>34.4009</td>\n",
       "      <td>31.7482</td>\n",
       "      <td>750</td>\n",
       "      <td>145</td>\n",
       "    </tr>\n",
       "    <tr>\n",
       "      <th>(874521, 675201)</th>\n",
       "      <td>Non-Parametrik</td>\n",
       "      <td>Fark Yok</td>\n",
       "      <td>0.2762</td>\n",
       "      <td>4605.3573</td>\n",
       "      <td>3112.2404</td>\n",
       "      <td>34.4009</td>\n",
       "      <td>33.8356</td>\n",
       "      <td>750</td>\n",
       "      <td>131</td>\n",
       "    </tr>\n",
       "    <tr>\n",
       "      <th>(874521, 201436)</th>\n",
       "      <td>Non-Parametrik</td>\n",
       "      <td>Fark Yok</td>\n",
       "      <td>0.1478</td>\n",
       "      <td>4605.3573</td>\n",
       "      <td>36.1755</td>\n",
       "      <td>34.4009</td>\n",
       "      <td>33.5347</td>\n",
       "      <td>750</td>\n",
       "      <td>97</td>\n",
       "    </tr>\n",
       "    <tr>\n",
       "      <th>(326584, 675201)</th>\n",
       "      <td>Non-Parametrik</td>\n",
       "      <td>Fark Var</td>\n",
       "      <td>0.0001</td>\n",
       "      <td>1424.6652</td>\n",
       "      <td>3112.2404</td>\n",
       "      <td>31.7482</td>\n",
       "      <td>33.8356</td>\n",
       "      <td>145</td>\n",
       "      <td>131</td>\n",
       "    </tr>\n",
       "    <tr>\n",
       "      <th>(326584, 201436)</th>\n",
       "      <td>Non-Parametrik</td>\n",
       "      <td>Fark Var</td>\n",
       "      <td>0.0005</td>\n",
       "      <td>1424.6652</td>\n",
       "      <td>36.1755</td>\n",
       "      <td>31.7482</td>\n",
       "      <td>33.5347</td>\n",
       "      <td>145</td>\n",
       "      <td>97</td>\n",
       "    </tr>\n",
       "    <tr>\n",
       "      <th>(675201, 201436)</th>\n",
       "      <td>Non-Parametrik</td>\n",
       "      <td>Fark Yok</td>\n",
       "      <td>0.3185</td>\n",
       "      <td>3112.2404</td>\n",
       "      <td>36.1755</td>\n",
       "      <td>33.8356</td>\n",
       "      <td>33.5347</td>\n",
       "      <td>131</td>\n",
       "      <td>97</td>\n",
       "    </tr>\n",
       "  </tbody>\n",
       "</table>\n",
       "</div>"
      ],
      "text/plain": [
       "                       Test Tipi Grup Karşılaştırması  p-value  GroupA Mean  \\\n",
       "(489756, 361254)  Non-Parametrik             Fark Var   0.0000    3589.8085   \n",
       "(489756, 874521)  Non-Parametrik             Fark Var   0.0000    3589.8085   \n",
       "(489756, 326584)  Non-Parametrik             Fark Var   0.0000    3589.8085   \n",
       "(489756, 675201)  Non-Parametrik             Fark Var   0.0000    3589.8085   \n",
       "(489756, 201436)  Non-Parametrik             Fark Var   0.0000    3589.8085   \n",
       "(361254, 874521)  Non-Parametrik             Fark Var   0.0242    1659.6807   \n",
       "(361254, 326584)  Non-Parametrik             Fark Var   0.0000    1659.6807   \n",
       "(361254, 675201)  Non-Parametrik             Fark Yok   0.3251    1659.6807   \n",
       "(361254, 201436)  Non-Parametrik             Fark Yok   0.4866    1659.6807   \n",
       "(874521, 326584)  Non-Parametrik             Fark Var   0.0000    4605.3573   \n",
       "(874521, 675201)  Non-Parametrik             Fark Yok   0.2762    4605.3573   \n",
       "(874521, 201436)  Non-Parametrik             Fark Yok   0.1478    4605.3573   \n",
       "(326584, 675201)  Non-Parametrik             Fark Var   0.0001    1424.6652   \n",
       "(326584, 201436)  Non-Parametrik             Fark Var   0.0005    1424.6652   \n",
       "(675201, 201436)  Non-Parametrik             Fark Yok   0.3185    3112.2404   \n",
       "\n",
       "                  GroupB Mean  GroupA Median  GroupB Median  GroupA Count  \\\n",
       "(489756, 361254)    1659.6807        35.6358        34.4592          1705   \n",
       "(489756, 874521)    4605.3573        35.6358        34.4009          1705   \n",
       "(489756, 326584)    1424.6652        35.6358        31.7482          1705   \n",
       "(489756, 675201)    3112.2404        35.6358        33.8356          1705   \n",
       "(489756, 201436)      36.1755        35.6358        33.5347          1705   \n",
       "(361254, 874521)    4605.3573        34.4592        34.4009           620   \n",
       "(361254, 326584)    1424.6652        34.4592        31.7482           620   \n",
       "(361254, 675201)    3112.2404        34.4592        33.8356           620   \n",
       "(361254, 201436)      36.1755        34.4592        33.5347           620   \n",
       "(874521, 326584)    1424.6652        34.4009        31.7482           750   \n",
       "(874521, 675201)    3112.2404        34.4009        33.8356           750   \n",
       "(874521, 201436)      36.1755        34.4009        33.5347           750   \n",
       "(326584, 675201)    3112.2404        31.7482        33.8356           145   \n",
       "(326584, 201436)      36.1755        31.7482        33.5347           145   \n",
       "(675201, 201436)      36.1755        33.8356        33.5347           131   \n",
       "\n",
       "                  GroupB Count  \n",
       "(489756, 361254)           620  \n",
       "(489756, 874521)           750  \n",
       "(489756, 326584)           145  \n",
       "(489756, 675201)           131  \n",
       "(489756, 201436)            97  \n",
       "(361254, 874521)           750  \n",
       "(361254, 326584)           145  \n",
       "(361254, 675201)           131  \n",
       "(361254, 201436)            97  \n",
       "(874521, 326584)           145  \n",
       "(874521, 675201)           131  \n",
       "(874521, 201436)            97  \n",
       "(326584, 675201)           131  \n",
       "(326584, 201436)            97  \n",
       "(675201, 201436)            97  "
      ]
     },
     "execution_count": 12,
     "metadata": {},
     "output_type": "execute_result"
    }
   ],
   "source": [
    "AB = analysis(df,\"category_id\",\"price\",0.05)\n",
    "AB"
   ]
  },
  {
   "cell_type": "markdown",
   "metadata": {},
   "source": [
    "### Aralarında Fark Olan Gruplar"
   ]
  },
  {
   "cell_type": "code",
   "execution_count": 13,
   "metadata": {},
   "outputs": [
    {
     "data": {
      "text/html": [
       "<div>\n",
       "<style scoped>\n",
       "    .dataframe tbody tr th:only-of-type {\n",
       "        vertical-align: middle;\n",
       "    }\n",
       "\n",
       "    .dataframe tbody tr th {\n",
       "        vertical-align: top;\n",
       "    }\n",
       "\n",
       "    .dataframe thead th {\n",
       "        text-align: right;\n",
       "    }\n",
       "</style>\n",
       "<table border=\"1\" class=\"dataframe\">\n",
       "  <thead>\n",
       "    <tr style=\"text-align: right;\">\n",
       "      <th></th>\n",
       "      <th>Test Tipi</th>\n",
       "      <th>Grup Karşılaştırması</th>\n",
       "      <th>p-value</th>\n",
       "      <th>GroupA Mean</th>\n",
       "      <th>GroupB Mean</th>\n",
       "      <th>GroupA Median</th>\n",
       "      <th>GroupB Median</th>\n",
       "      <th>GroupA Count</th>\n",
       "      <th>GroupB Count</th>\n",
       "    </tr>\n",
       "  </thead>\n",
       "  <tbody>\n",
       "    <tr>\n",
       "      <th>(489756, 361254)</th>\n",
       "      <td>Non-Parametrik</td>\n",
       "      <td>Fark Var</td>\n",
       "      <td>0.0000</td>\n",
       "      <td>3589.8085</td>\n",
       "      <td>1659.6807</td>\n",
       "      <td>35.6358</td>\n",
       "      <td>34.4592</td>\n",
       "      <td>1705</td>\n",
       "      <td>620</td>\n",
       "    </tr>\n",
       "    <tr>\n",
       "      <th>(489756, 874521)</th>\n",
       "      <td>Non-Parametrik</td>\n",
       "      <td>Fark Var</td>\n",
       "      <td>0.0000</td>\n",
       "      <td>3589.8085</td>\n",
       "      <td>4605.3573</td>\n",
       "      <td>35.6358</td>\n",
       "      <td>34.4009</td>\n",
       "      <td>1705</td>\n",
       "      <td>750</td>\n",
       "    </tr>\n",
       "    <tr>\n",
       "      <th>(489756, 326584)</th>\n",
       "      <td>Non-Parametrik</td>\n",
       "      <td>Fark Var</td>\n",
       "      <td>0.0000</td>\n",
       "      <td>3589.8085</td>\n",
       "      <td>1424.6652</td>\n",
       "      <td>35.6358</td>\n",
       "      <td>31.7482</td>\n",
       "      <td>1705</td>\n",
       "      <td>145</td>\n",
       "    </tr>\n",
       "    <tr>\n",
       "      <th>(489756, 675201)</th>\n",
       "      <td>Non-Parametrik</td>\n",
       "      <td>Fark Var</td>\n",
       "      <td>0.0000</td>\n",
       "      <td>3589.8085</td>\n",
       "      <td>3112.2404</td>\n",
       "      <td>35.6358</td>\n",
       "      <td>33.8356</td>\n",
       "      <td>1705</td>\n",
       "      <td>131</td>\n",
       "    </tr>\n",
       "    <tr>\n",
       "      <th>(489756, 201436)</th>\n",
       "      <td>Non-Parametrik</td>\n",
       "      <td>Fark Var</td>\n",
       "      <td>0.0000</td>\n",
       "      <td>3589.8085</td>\n",
       "      <td>36.1755</td>\n",
       "      <td>35.6358</td>\n",
       "      <td>33.5347</td>\n",
       "      <td>1705</td>\n",
       "      <td>97</td>\n",
       "    </tr>\n",
       "    <tr>\n",
       "      <th>(361254, 874521)</th>\n",
       "      <td>Non-Parametrik</td>\n",
       "      <td>Fark Var</td>\n",
       "      <td>0.0242</td>\n",
       "      <td>1659.6807</td>\n",
       "      <td>4605.3573</td>\n",
       "      <td>34.4592</td>\n",
       "      <td>34.4009</td>\n",
       "      <td>620</td>\n",
       "      <td>750</td>\n",
       "    </tr>\n",
       "    <tr>\n",
       "      <th>(361254, 326584)</th>\n",
       "      <td>Non-Parametrik</td>\n",
       "      <td>Fark Var</td>\n",
       "      <td>0.0000</td>\n",
       "      <td>1659.6807</td>\n",
       "      <td>1424.6652</td>\n",
       "      <td>34.4592</td>\n",
       "      <td>31.7482</td>\n",
       "      <td>620</td>\n",
       "      <td>145</td>\n",
       "    </tr>\n",
       "    <tr>\n",
       "      <th>(874521, 326584)</th>\n",
       "      <td>Non-Parametrik</td>\n",
       "      <td>Fark Var</td>\n",
       "      <td>0.0000</td>\n",
       "      <td>4605.3573</td>\n",
       "      <td>1424.6652</td>\n",
       "      <td>34.4009</td>\n",
       "      <td>31.7482</td>\n",
       "      <td>750</td>\n",
       "      <td>145</td>\n",
       "    </tr>\n",
       "    <tr>\n",
       "      <th>(326584, 675201)</th>\n",
       "      <td>Non-Parametrik</td>\n",
       "      <td>Fark Var</td>\n",
       "      <td>0.0001</td>\n",
       "      <td>1424.6652</td>\n",
       "      <td>3112.2404</td>\n",
       "      <td>31.7482</td>\n",
       "      <td>33.8356</td>\n",
       "      <td>145</td>\n",
       "      <td>131</td>\n",
       "    </tr>\n",
       "    <tr>\n",
       "      <th>(326584, 201436)</th>\n",
       "      <td>Non-Parametrik</td>\n",
       "      <td>Fark Var</td>\n",
       "      <td>0.0005</td>\n",
       "      <td>1424.6652</td>\n",
       "      <td>36.1755</td>\n",
       "      <td>31.7482</td>\n",
       "      <td>33.5347</td>\n",
       "      <td>145</td>\n",
       "      <td>97</td>\n",
       "    </tr>\n",
       "  </tbody>\n",
       "</table>\n",
       "</div>"
      ],
      "text/plain": [
       "                       Test Tipi Grup Karşılaştırması  p-value  GroupA Mean  \\\n",
       "(489756, 361254)  Non-Parametrik             Fark Var   0.0000    3589.8085   \n",
       "(489756, 874521)  Non-Parametrik             Fark Var   0.0000    3589.8085   \n",
       "(489756, 326584)  Non-Parametrik             Fark Var   0.0000    3589.8085   \n",
       "(489756, 675201)  Non-Parametrik             Fark Var   0.0000    3589.8085   \n",
       "(489756, 201436)  Non-Parametrik             Fark Var   0.0000    3589.8085   \n",
       "(361254, 874521)  Non-Parametrik             Fark Var   0.0242    1659.6807   \n",
       "(361254, 326584)  Non-Parametrik             Fark Var   0.0000    1659.6807   \n",
       "(874521, 326584)  Non-Parametrik             Fark Var   0.0000    4605.3573   \n",
       "(326584, 675201)  Non-Parametrik             Fark Var   0.0001    1424.6652   \n",
       "(326584, 201436)  Non-Parametrik             Fark Var   0.0005    1424.6652   \n",
       "\n",
       "                  GroupB Mean  GroupA Median  GroupB Median  GroupA Count  \\\n",
       "(489756, 361254)    1659.6807        35.6358        34.4592          1705   \n",
       "(489756, 874521)    4605.3573        35.6358        34.4009          1705   \n",
       "(489756, 326584)    1424.6652        35.6358        31.7482          1705   \n",
       "(489756, 675201)    3112.2404        35.6358        33.8356          1705   \n",
       "(489756, 201436)      36.1755        35.6358        33.5347          1705   \n",
       "(361254, 874521)    4605.3573        34.4592        34.4009           620   \n",
       "(361254, 326584)    1424.6652        34.4592        31.7482           620   \n",
       "(874521, 326584)    1424.6652        34.4009        31.7482           750   \n",
       "(326584, 675201)    3112.2404        31.7482        33.8356           145   \n",
       "(326584, 201436)      36.1755        31.7482        33.5347           145   \n",
       "\n",
       "                  GroupB Count  \n",
       "(489756, 361254)           620  \n",
       "(489756, 874521)           750  \n",
       "(489756, 326584)           145  \n",
       "(489756, 675201)           131  \n",
       "(489756, 201436)            97  \n",
       "(361254, 874521)           750  \n",
       "(361254, 326584)           145  \n",
       "(874521, 326584)           145  \n",
       "(326584, 675201)           131  \n",
       "(326584, 201436)            97  "
      ]
     },
     "execution_count": 13,
     "metadata": {},
     "output_type": "execute_result"
    }
   ],
   "source": [
    "AB[AB[\"Grup Karşılaştırması\"]==\"Fark Var\"]"
   ]
  },
  {
   "cell_type": "markdown",
   "metadata": {},
   "source": [
    "### Aralarında Fark Olmayan Gruplar"
   ]
  },
  {
   "cell_type": "code",
   "execution_count": 14,
   "metadata": {},
   "outputs": [
    {
     "data": {
      "text/html": [
       "<div>\n",
       "<style scoped>\n",
       "    .dataframe tbody tr th:only-of-type {\n",
       "        vertical-align: middle;\n",
       "    }\n",
       "\n",
       "    .dataframe tbody tr th {\n",
       "        vertical-align: top;\n",
       "    }\n",
       "\n",
       "    .dataframe thead th {\n",
       "        text-align: right;\n",
       "    }\n",
       "</style>\n",
       "<table border=\"1\" class=\"dataframe\">\n",
       "  <thead>\n",
       "    <tr style=\"text-align: right;\">\n",
       "      <th></th>\n",
       "      <th>Test Tipi</th>\n",
       "      <th>Grup Karşılaştırması</th>\n",
       "      <th>p-value</th>\n",
       "      <th>GroupA Mean</th>\n",
       "      <th>GroupB Mean</th>\n",
       "      <th>GroupA Median</th>\n",
       "      <th>GroupB Median</th>\n",
       "      <th>GroupA Count</th>\n",
       "      <th>GroupB Count</th>\n",
       "    </tr>\n",
       "  </thead>\n",
       "  <tbody>\n",
       "    <tr>\n",
       "      <th>(361254, 675201)</th>\n",
       "      <td>Non-Parametrik</td>\n",
       "      <td>Fark Yok</td>\n",
       "      <td>0.3251</td>\n",
       "      <td>1659.6807</td>\n",
       "      <td>3112.2404</td>\n",
       "      <td>34.4592</td>\n",
       "      <td>33.8356</td>\n",
       "      <td>620</td>\n",
       "      <td>131</td>\n",
       "    </tr>\n",
       "    <tr>\n",
       "      <th>(361254, 201436)</th>\n",
       "      <td>Non-Parametrik</td>\n",
       "      <td>Fark Yok</td>\n",
       "      <td>0.4866</td>\n",
       "      <td>1659.6807</td>\n",
       "      <td>36.1755</td>\n",
       "      <td>34.4592</td>\n",
       "      <td>33.5347</td>\n",
       "      <td>620</td>\n",
       "      <td>97</td>\n",
       "    </tr>\n",
       "    <tr>\n",
       "      <th>(874521, 675201)</th>\n",
       "      <td>Non-Parametrik</td>\n",
       "      <td>Fark Yok</td>\n",
       "      <td>0.2762</td>\n",
       "      <td>4605.3573</td>\n",
       "      <td>3112.2404</td>\n",
       "      <td>34.4009</td>\n",
       "      <td>33.8356</td>\n",
       "      <td>750</td>\n",
       "      <td>131</td>\n",
       "    </tr>\n",
       "    <tr>\n",
       "      <th>(874521, 201436)</th>\n",
       "      <td>Non-Parametrik</td>\n",
       "      <td>Fark Yok</td>\n",
       "      <td>0.1478</td>\n",
       "      <td>4605.3573</td>\n",
       "      <td>36.1755</td>\n",
       "      <td>34.4009</td>\n",
       "      <td>33.5347</td>\n",
       "      <td>750</td>\n",
       "      <td>97</td>\n",
       "    </tr>\n",
       "    <tr>\n",
       "      <th>(675201, 201436)</th>\n",
       "      <td>Non-Parametrik</td>\n",
       "      <td>Fark Yok</td>\n",
       "      <td>0.3185</td>\n",
       "      <td>3112.2404</td>\n",
       "      <td>36.1755</td>\n",
       "      <td>33.8356</td>\n",
       "      <td>33.5347</td>\n",
       "      <td>131</td>\n",
       "      <td>97</td>\n",
       "    </tr>\n",
       "  </tbody>\n",
       "</table>\n",
       "</div>"
      ],
      "text/plain": [
       "                       Test Tipi Grup Karşılaştırması  p-value  GroupA Mean  \\\n",
       "(361254, 675201)  Non-Parametrik             Fark Yok   0.3251    1659.6807   \n",
       "(361254, 201436)  Non-Parametrik             Fark Yok   0.4866    1659.6807   \n",
       "(874521, 675201)  Non-Parametrik             Fark Yok   0.2762    4605.3573   \n",
       "(874521, 201436)  Non-Parametrik             Fark Yok   0.1478    4605.3573   \n",
       "(675201, 201436)  Non-Parametrik             Fark Yok   0.3185    3112.2404   \n",
       "\n",
       "                  GroupB Mean  GroupA Median  GroupB Median  GroupA Count  \\\n",
       "(361254, 675201)    3112.2404        34.4592        33.8356           620   \n",
       "(361254, 201436)      36.1755        34.4592        33.5347           620   \n",
       "(874521, 675201)    3112.2404        34.4009        33.8356           750   \n",
       "(874521, 201436)      36.1755        34.4009        33.5347           750   \n",
       "(675201, 201436)      36.1755        33.8356        33.5347           131   \n",
       "\n",
       "                  GroupB Count  \n",
       "(361254, 675201)           131  \n",
       "(361254, 201436)            97  \n",
       "(874521, 675201)           131  \n",
       "(874521, 201436)            97  \n",
       "(675201, 201436)            97  "
      ]
     },
     "execution_count": 14,
     "metadata": {},
     "output_type": "execute_result"
    }
   ],
   "source": [
    "AB[AB[\"Grup Karşılaştırması\"]==\"Fark Yok\"]"
   ]
  },
  {
   "cell_type": "markdown",
   "metadata": {},
   "source": [
    "<div class=\"alert alert-danger\" role=\"alert\">\n",
    "Gruplar normallik varsayımını <b>sağlamadığından dolayı</b>, normalleştirmek için aykırı gözlemlere müdahale ediyorum.\n",
    "</div>"
   ]
  },
  {
   "cell_type": "markdown",
   "metadata": {},
   "source": [
    "# 🔨  OUTLIERS"
   ]
  },
  {
   "cell_type": "code",
   "execution_count": 15,
   "metadata": {},
   "outputs": [],
   "source": [
    "def outlier_thresholds(dataframe, variable):\n",
    "    quartile1 = dataframe[variable].quantile(0.05)\n",
    "    quartile3 = dataframe[variable].quantile(0.95)\n",
    "    interquantile_range = quartile3 - quartile1\n",
    "    up_limit = quartile3 + 1.5 * interquantile_range\n",
    "    low_limit = quartile1 - 1.5 * interquantile_range\n",
    "    return low_limit, up_limit"
   ]
  },
  {
   "cell_type": "code",
   "execution_count": 16,
   "metadata": {},
   "outputs": [],
   "source": [
    "def has_outliers(dataframe, num_col_names, plot=False):\n",
    "    variable_names = []\n",
    "    for col in num_col_names:\n",
    "        low_limit, up_limit = outlier_thresholds(dataframe, col)\n",
    "        if dataframe[(dataframe[col] > up_limit) | (dataframe[col] < low_limit)].any(axis=None):\n",
    "            number_of_outliers = dataframe[(dataframe[col] > up_limit) | (dataframe[col] < low_limit)].shape[0]\n",
    "            print(\"Total Data Size:\",dataframe.shape[0])\n",
    "            print(col, \":\", number_of_outliers, \"outlier value\")\n",
    "            variable_names.append(col)\n",
    "            if plot:\n",
    "                sns.boxplot(x=dataframe[col])\n",
    "                plt.show()\n",
    "    #return variable_names"
   ]
  },
  {
   "cell_type": "code",
   "execution_count": 17,
   "metadata": {},
   "outputs": [
    {
     "name": "stdout",
     "output_type": "stream",
     "text": [
      "Total Data Size: 3448\n",
      "price : 77 outlier value\n"
     ]
    }
   ],
   "source": [
    "has_outliers(df, [\"price\"])"
   ]
  },
  {
   "cell_type": "code",
   "execution_count": 18,
   "metadata": {},
   "outputs": [],
   "source": [
    "def remove_outliers(dataframe, variable):\n",
    "    low_limit, up_limit = outlier_thresholds(dataframe, variable)\n",
    "    df_without_outliers = dataframe[~((dataframe[variable] < low_limit) | (dataframe[variable] > up_limit))]\n",
    "    return df_without_outliers"
   ]
  },
  {
   "cell_type": "code",
   "execution_count": 19,
   "metadata": {},
   "outputs": [],
   "source": [
    "df2 = remove_outliers(df,\"price\")"
   ]
  },
  {
   "cell_type": "code",
   "execution_count": 20,
   "metadata": {},
   "outputs": [
    {
     "data": {
      "text/plain": [
       "(3371, 2)"
      ]
     },
     "execution_count": 20,
     "metadata": {},
     "output_type": "execute_result"
    }
   ],
   "source": [
    "# Aykırı gözlemler kaldırılıktan sonra data boyutu\n",
    "df2.shape"
   ]
  },
  {
   "cell_type": "markdown",
   "metadata": {},
   "source": [
    "# &#128202; Outlier Sildikten Sonraki Rapor Sonuçları"
   ]
  },
  {
   "cell_type": "code",
   "execution_count": 21,
   "metadata": {},
   "outputs": [
    {
     "name": "stdout",
     "output_type": "stream",
     "text": [
      "-------------------- Grup Karşılaştırmaları | alpha güven katsayısı : 0.05 --------------------\n"
     ]
    },
    {
     "data": {
      "text/html": [
       "<div>\n",
       "<style scoped>\n",
       "    .dataframe tbody tr th:only-of-type {\n",
       "        vertical-align: middle;\n",
       "    }\n",
       "\n",
       "    .dataframe tbody tr th {\n",
       "        vertical-align: top;\n",
       "    }\n",
       "\n",
       "    .dataframe thead th {\n",
       "        text-align: right;\n",
       "    }\n",
       "</style>\n",
       "<table border=\"1\" class=\"dataframe\">\n",
       "  <thead>\n",
       "    <tr style=\"text-align: right;\">\n",
       "      <th></th>\n",
       "      <th>Test Tipi</th>\n",
       "      <th>Grup Karşılaştırması</th>\n",
       "      <th>p-value</th>\n",
       "      <th>GroupA Mean</th>\n",
       "      <th>GroupB Mean</th>\n",
       "      <th>GroupA Median</th>\n",
       "      <th>GroupB Median</th>\n",
       "      <th>GroupA Count</th>\n",
       "      <th>GroupB Count</th>\n",
       "    </tr>\n",
       "  </thead>\n",
       "  <tbody>\n",
       "    <tr>\n",
       "      <th>(489756, 361254)</th>\n",
       "      <td>Non-Parametrik</td>\n",
       "      <td>Fark Var</td>\n",
       "      <td>0.0000</td>\n",
       "      <td>43.6040</td>\n",
       "      <td>35.4773</td>\n",
       "      <td>35.3991</td>\n",
       "      <td>34.4565</td>\n",
       "      <td>1658</td>\n",
       "      <td>615</td>\n",
       "    </tr>\n",
       "    <tr>\n",
       "      <th>(489756, 874521)</th>\n",
       "      <td>Non-Parametrik</td>\n",
       "      <td>Fark Var</td>\n",
       "      <td>0.0000</td>\n",
       "      <td>43.6040</td>\n",
       "      <td>39.2732</td>\n",
       "      <td>35.3991</td>\n",
       "      <td>34.2036</td>\n",
       "      <td>1658</td>\n",
       "      <td>728</td>\n",
       "    </tr>\n",
       "    <tr>\n",
       "      <th>(489756, 326584)</th>\n",
       "      <td>Non-Parametrik</td>\n",
       "      <td>Fark Var</td>\n",
       "      <td>0.0000</td>\n",
       "      <td>43.6040</td>\n",
       "      <td>35.6932</td>\n",
       "      <td>35.3991</td>\n",
       "      <td>31.7060</td>\n",
       "      <td>1658</td>\n",
       "      <td>144</td>\n",
       "    </tr>\n",
       "    <tr>\n",
       "      <th>(489756, 675201)</th>\n",
       "      <td>Non-Parametrik</td>\n",
       "      <td>Fark Var</td>\n",
       "      <td>0.0000</td>\n",
       "      <td>43.6040</td>\n",
       "      <td>37.4436</td>\n",
       "      <td>35.3991</td>\n",
       "      <td>33.7259</td>\n",
       "      <td>1658</td>\n",
       "      <td>129</td>\n",
       "    </tr>\n",
       "    <tr>\n",
       "      <th>(489756, 201436)</th>\n",
       "      <td>Non-Parametrik</td>\n",
       "      <td>Fark Var</td>\n",
       "      <td>0.0000</td>\n",
       "      <td>43.6040</td>\n",
       "      <td>36.1755</td>\n",
       "      <td>35.3991</td>\n",
       "      <td>33.5347</td>\n",
       "      <td>1658</td>\n",
       "      <td>97</td>\n",
       "    </tr>\n",
       "    <tr>\n",
       "      <th>(361254, 874521)</th>\n",
       "      <td>Non-Parametrik</td>\n",
       "      <td>Fark Yok</td>\n",
       "      <td>0.0909</td>\n",
       "      <td>35.4773</td>\n",
       "      <td>39.2732</td>\n",
       "      <td>34.4565</td>\n",
       "      <td>34.2036</td>\n",
       "      <td>615</td>\n",
       "      <td>728</td>\n",
       "    </tr>\n",
       "    <tr>\n",
       "      <th>(361254, 326584)</th>\n",
       "      <td>Non-Parametrik</td>\n",
       "      <td>Fark Var</td>\n",
       "      <td>0.0000</td>\n",
       "      <td>35.4773</td>\n",
       "      <td>35.6932</td>\n",
       "      <td>34.4565</td>\n",
       "      <td>31.7060</td>\n",
       "      <td>615</td>\n",
       "      <td>144</td>\n",
       "    </tr>\n",
       "    <tr>\n",
       "      <th>(361254, 675201)</th>\n",
       "      <td>Non-Parametrik</td>\n",
       "      <td>Fark Yok</td>\n",
       "      <td>0.3708</td>\n",
       "      <td>35.4773</td>\n",
       "      <td>37.4436</td>\n",
       "      <td>34.4565</td>\n",
       "      <td>33.7259</td>\n",
       "      <td>615</td>\n",
       "      <td>129</td>\n",
       "    </tr>\n",
       "    <tr>\n",
       "      <th>(361254, 201436)</th>\n",
       "      <td>Non-Parametrik</td>\n",
       "      <td>Fark Yok</td>\n",
       "      <td>0.4354</td>\n",
       "      <td>35.4773</td>\n",
       "      <td>36.1755</td>\n",
       "      <td>34.4565</td>\n",
       "      <td>33.5347</td>\n",
       "      <td>615</td>\n",
       "      <td>97</td>\n",
       "    </tr>\n",
       "    <tr>\n",
       "      <th>(874521, 326584)</th>\n",
       "      <td>Non-Parametrik</td>\n",
       "      <td>Fark Var</td>\n",
       "      <td>0.0000</td>\n",
       "      <td>39.2732</td>\n",
       "      <td>35.6932</td>\n",
       "      <td>34.2036</td>\n",
       "      <td>31.7060</td>\n",
       "      <td>728</td>\n",
       "      <td>144</td>\n",
       "    </tr>\n",
       "    <tr>\n",
       "      <th>(874521, 675201)</th>\n",
       "      <td>Non-Parametrik</td>\n",
       "      <td>Fark Yok</td>\n",
       "      <td>0.3623</td>\n",
       "      <td>39.2732</td>\n",
       "      <td>37.4436</td>\n",
       "      <td>34.2036</td>\n",
       "      <td>33.7259</td>\n",
       "      <td>728</td>\n",
       "      <td>129</td>\n",
       "    </tr>\n",
       "    <tr>\n",
       "      <th>(874521, 201436)</th>\n",
       "      <td>Non-Parametrik</td>\n",
       "      <td>Fark Yok</td>\n",
       "      <td>0.2772</td>\n",
       "      <td>39.2732</td>\n",
       "      <td>36.1755</td>\n",
       "      <td>34.2036</td>\n",
       "      <td>33.5347</td>\n",
       "      <td>728</td>\n",
       "      <td>97</td>\n",
       "    </tr>\n",
       "    <tr>\n",
       "      <th>(326584, 675201)</th>\n",
       "      <td>Non-Parametrik</td>\n",
       "      <td>Fark Var</td>\n",
       "      <td>0.0001</td>\n",
       "      <td>35.6932</td>\n",
       "      <td>37.4436</td>\n",
       "      <td>31.7060</td>\n",
       "      <td>33.7259</td>\n",
       "      <td>144</td>\n",
       "      <td>129</td>\n",
       "    </tr>\n",
       "    <tr>\n",
       "      <th>(326584, 201436)</th>\n",
       "      <td>Non-Parametrik</td>\n",
       "      <td>Fark Var</td>\n",
       "      <td>0.0003</td>\n",
       "      <td>35.6932</td>\n",
       "      <td>36.1755</td>\n",
       "      <td>31.7060</td>\n",
       "      <td>33.5347</td>\n",
       "      <td>144</td>\n",
       "      <td>97</td>\n",
       "    </tr>\n",
       "    <tr>\n",
       "      <th>(675201, 201436)</th>\n",
       "      <td>Non-Parametrik</td>\n",
       "      <td>Fark Yok</td>\n",
       "      <td>0.3905</td>\n",
       "      <td>37.4436</td>\n",
       "      <td>36.1755</td>\n",
       "      <td>33.7259</td>\n",
       "      <td>33.5347</td>\n",
       "      <td>129</td>\n",
       "      <td>97</td>\n",
       "    </tr>\n",
       "  </tbody>\n",
       "</table>\n",
       "</div>"
      ],
      "text/plain": [
       "                       Test Tipi Grup Karşılaştırması  p-value  GroupA Mean  \\\n",
       "(489756, 361254)  Non-Parametrik             Fark Var   0.0000      43.6040   \n",
       "(489756, 874521)  Non-Parametrik             Fark Var   0.0000      43.6040   \n",
       "(489756, 326584)  Non-Parametrik             Fark Var   0.0000      43.6040   \n",
       "(489756, 675201)  Non-Parametrik             Fark Var   0.0000      43.6040   \n",
       "(489756, 201436)  Non-Parametrik             Fark Var   0.0000      43.6040   \n",
       "(361254, 874521)  Non-Parametrik             Fark Yok   0.0909      35.4773   \n",
       "(361254, 326584)  Non-Parametrik             Fark Var   0.0000      35.4773   \n",
       "(361254, 675201)  Non-Parametrik             Fark Yok   0.3708      35.4773   \n",
       "(361254, 201436)  Non-Parametrik             Fark Yok   0.4354      35.4773   \n",
       "(874521, 326584)  Non-Parametrik             Fark Var   0.0000      39.2732   \n",
       "(874521, 675201)  Non-Parametrik             Fark Yok   0.3623      39.2732   \n",
       "(874521, 201436)  Non-Parametrik             Fark Yok   0.2772      39.2732   \n",
       "(326584, 675201)  Non-Parametrik             Fark Var   0.0001      35.6932   \n",
       "(326584, 201436)  Non-Parametrik             Fark Var   0.0003      35.6932   \n",
       "(675201, 201436)  Non-Parametrik             Fark Yok   0.3905      37.4436   \n",
       "\n",
       "                  GroupB Mean  GroupA Median  GroupB Median  GroupA Count  \\\n",
       "(489756, 361254)      35.4773        35.3991        34.4565          1658   \n",
       "(489756, 874521)      39.2732        35.3991        34.2036          1658   \n",
       "(489756, 326584)      35.6932        35.3991        31.7060          1658   \n",
       "(489756, 675201)      37.4436        35.3991        33.7259          1658   \n",
       "(489756, 201436)      36.1755        35.3991        33.5347          1658   \n",
       "(361254, 874521)      39.2732        34.4565        34.2036           615   \n",
       "(361254, 326584)      35.6932        34.4565        31.7060           615   \n",
       "(361254, 675201)      37.4436        34.4565        33.7259           615   \n",
       "(361254, 201436)      36.1755        34.4565        33.5347           615   \n",
       "(874521, 326584)      35.6932        34.2036        31.7060           728   \n",
       "(874521, 675201)      37.4436        34.2036        33.7259           728   \n",
       "(874521, 201436)      36.1755        34.2036        33.5347           728   \n",
       "(326584, 675201)      37.4436        31.7060        33.7259           144   \n",
       "(326584, 201436)      36.1755        31.7060        33.5347           144   \n",
       "(675201, 201436)      36.1755        33.7259        33.5347           129   \n",
       "\n",
       "                  GroupB Count  \n",
       "(489756, 361254)           615  \n",
       "(489756, 874521)           728  \n",
       "(489756, 326584)           144  \n",
       "(489756, 675201)           129  \n",
       "(489756, 201436)            97  \n",
       "(361254, 874521)           728  \n",
       "(361254, 326584)           144  \n",
       "(361254, 675201)           129  \n",
       "(361254, 201436)            97  \n",
       "(874521, 326584)           144  \n",
       "(874521, 675201)           129  \n",
       "(874521, 201436)            97  \n",
       "(326584, 675201)           129  \n",
       "(326584, 201436)            97  \n",
       "(675201, 201436)            97  "
      ]
     },
     "execution_count": 21,
     "metadata": {},
     "output_type": "execute_result"
    }
   ],
   "source": [
    "AB = analysis(df2,\"category_id\",\"price\",0.05)\n",
    "AB"
   ]
  },
  {
   "cell_type": "markdown",
   "metadata": {},
   "source": [
    "<div class=\"alert alert-success\" role=\"alert\">\n",
    "Kategoriler hala normal dağılmıyor fakat, outlier gözlemleri kaldırdıktan sonra kategoriler arasındaki ortalamalar birbirine yakın değerlerden oluştu.\n",
    "</div>"
   ]
  },
  {
   "cell_type": "markdown",
   "metadata": {},
   "source": [
    "### İstatistiksel olarak aralarında anlamlı bir farklılık olan gruplar Ho < 0.05"
   ]
  },
  {
   "cell_type": "code",
   "execution_count": 22,
   "metadata": {},
   "outputs": [
    {
     "data": {
      "text/html": [
       "<div>\n",
       "<style scoped>\n",
       "    .dataframe tbody tr th:only-of-type {\n",
       "        vertical-align: middle;\n",
       "    }\n",
       "\n",
       "    .dataframe tbody tr th {\n",
       "        vertical-align: top;\n",
       "    }\n",
       "\n",
       "    .dataframe thead th {\n",
       "        text-align: right;\n",
       "    }\n",
       "</style>\n",
       "<table border=\"1\" class=\"dataframe\">\n",
       "  <thead>\n",
       "    <tr style=\"text-align: right;\">\n",
       "      <th></th>\n",
       "      <th>Test Tipi</th>\n",
       "      <th>Grup Karşılaştırması</th>\n",
       "      <th>p-value</th>\n",
       "      <th>GroupA Mean</th>\n",
       "      <th>GroupB Mean</th>\n",
       "      <th>GroupA Median</th>\n",
       "      <th>GroupB Median</th>\n",
       "      <th>GroupA Count</th>\n",
       "      <th>GroupB Count</th>\n",
       "    </tr>\n",
       "  </thead>\n",
       "  <tbody>\n",
       "    <tr>\n",
       "      <th>(489756, 361254)</th>\n",
       "      <td>Non-Parametrik</td>\n",
       "      <td>Fark Var</td>\n",
       "      <td>0.0000</td>\n",
       "      <td>43.6040</td>\n",
       "      <td>35.4773</td>\n",
       "      <td>35.3991</td>\n",
       "      <td>34.4565</td>\n",
       "      <td>1658</td>\n",
       "      <td>615</td>\n",
       "    </tr>\n",
       "    <tr>\n",
       "      <th>(489756, 874521)</th>\n",
       "      <td>Non-Parametrik</td>\n",
       "      <td>Fark Var</td>\n",
       "      <td>0.0000</td>\n",
       "      <td>43.6040</td>\n",
       "      <td>39.2732</td>\n",
       "      <td>35.3991</td>\n",
       "      <td>34.2036</td>\n",
       "      <td>1658</td>\n",
       "      <td>728</td>\n",
       "    </tr>\n",
       "    <tr>\n",
       "      <th>(489756, 326584)</th>\n",
       "      <td>Non-Parametrik</td>\n",
       "      <td>Fark Var</td>\n",
       "      <td>0.0000</td>\n",
       "      <td>43.6040</td>\n",
       "      <td>35.6932</td>\n",
       "      <td>35.3991</td>\n",
       "      <td>31.7060</td>\n",
       "      <td>1658</td>\n",
       "      <td>144</td>\n",
       "    </tr>\n",
       "    <tr>\n",
       "      <th>(489756, 675201)</th>\n",
       "      <td>Non-Parametrik</td>\n",
       "      <td>Fark Var</td>\n",
       "      <td>0.0000</td>\n",
       "      <td>43.6040</td>\n",
       "      <td>37.4436</td>\n",
       "      <td>35.3991</td>\n",
       "      <td>33.7259</td>\n",
       "      <td>1658</td>\n",
       "      <td>129</td>\n",
       "    </tr>\n",
       "    <tr>\n",
       "      <th>(489756, 201436)</th>\n",
       "      <td>Non-Parametrik</td>\n",
       "      <td>Fark Var</td>\n",
       "      <td>0.0000</td>\n",
       "      <td>43.6040</td>\n",
       "      <td>36.1755</td>\n",
       "      <td>35.3991</td>\n",
       "      <td>33.5347</td>\n",
       "      <td>1658</td>\n",
       "      <td>97</td>\n",
       "    </tr>\n",
       "    <tr>\n",
       "      <th>(361254, 326584)</th>\n",
       "      <td>Non-Parametrik</td>\n",
       "      <td>Fark Var</td>\n",
       "      <td>0.0000</td>\n",
       "      <td>35.4773</td>\n",
       "      <td>35.6932</td>\n",
       "      <td>34.4565</td>\n",
       "      <td>31.7060</td>\n",
       "      <td>615</td>\n",
       "      <td>144</td>\n",
       "    </tr>\n",
       "    <tr>\n",
       "      <th>(874521, 326584)</th>\n",
       "      <td>Non-Parametrik</td>\n",
       "      <td>Fark Var</td>\n",
       "      <td>0.0000</td>\n",
       "      <td>39.2732</td>\n",
       "      <td>35.6932</td>\n",
       "      <td>34.2036</td>\n",
       "      <td>31.7060</td>\n",
       "      <td>728</td>\n",
       "      <td>144</td>\n",
       "    </tr>\n",
       "    <tr>\n",
       "      <th>(326584, 675201)</th>\n",
       "      <td>Non-Parametrik</td>\n",
       "      <td>Fark Var</td>\n",
       "      <td>0.0001</td>\n",
       "      <td>35.6932</td>\n",
       "      <td>37.4436</td>\n",
       "      <td>31.7060</td>\n",
       "      <td>33.7259</td>\n",
       "      <td>144</td>\n",
       "      <td>129</td>\n",
       "    </tr>\n",
       "    <tr>\n",
       "      <th>(326584, 201436)</th>\n",
       "      <td>Non-Parametrik</td>\n",
       "      <td>Fark Var</td>\n",
       "      <td>0.0003</td>\n",
       "      <td>35.6932</td>\n",
       "      <td>36.1755</td>\n",
       "      <td>31.7060</td>\n",
       "      <td>33.5347</td>\n",
       "      <td>144</td>\n",
       "      <td>97</td>\n",
       "    </tr>\n",
       "  </tbody>\n",
       "</table>\n",
       "</div>"
      ],
      "text/plain": [
       "                       Test Tipi Grup Karşılaştırması  p-value  GroupA Mean  \\\n",
       "(489756, 361254)  Non-Parametrik             Fark Var   0.0000      43.6040   \n",
       "(489756, 874521)  Non-Parametrik             Fark Var   0.0000      43.6040   \n",
       "(489756, 326584)  Non-Parametrik             Fark Var   0.0000      43.6040   \n",
       "(489756, 675201)  Non-Parametrik             Fark Var   0.0000      43.6040   \n",
       "(489756, 201436)  Non-Parametrik             Fark Var   0.0000      43.6040   \n",
       "(361254, 326584)  Non-Parametrik             Fark Var   0.0000      35.4773   \n",
       "(874521, 326584)  Non-Parametrik             Fark Var   0.0000      39.2732   \n",
       "(326584, 675201)  Non-Parametrik             Fark Var   0.0001      35.6932   \n",
       "(326584, 201436)  Non-Parametrik             Fark Var   0.0003      35.6932   \n",
       "\n",
       "                  GroupB Mean  GroupA Median  GroupB Median  GroupA Count  \\\n",
       "(489756, 361254)      35.4773        35.3991        34.4565          1658   \n",
       "(489756, 874521)      39.2732        35.3991        34.2036          1658   \n",
       "(489756, 326584)      35.6932        35.3991        31.7060          1658   \n",
       "(489756, 675201)      37.4436        35.3991        33.7259          1658   \n",
       "(489756, 201436)      36.1755        35.3991        33.5347          1658   \n",
       "(361254, 326584)      35.6932        34.4565        31.7060           615   \n",
       "(874521, 326584)      35.6932        34.2036        31.7060           728   \n",
       "(326584, 675201)      37.4436        31.7060        33.7259           144   \n",
       "(326584, 201436)      36.1755        31.7060        33.5347           144   \n",
       "\n",
       "                  GroupB Count  \n",
       "(489756, 361254)           615  \n",
       "(489756, 874521)           728  \n",
       "(489756, 326584)           144  \n",
       "(489756, 675201)           129  \n",
       "(489756, 201436)            97  \n",
       "(361254, 326584)           144  \n",
       "(874521, 326584)           144  \n",
       "(326584, 675201)           129  \n",
       "(326584, 201436)            97  "
      ]
     },
     "execution_count": 22,
     "metadata": {},
     "output_type": "execute_result"
    }
   ],
   "source": [
    "AB[AB[\"Grup Karşılaştırması\"] == \"Fark Var\"]"
   ]
  },
  {
   "cell_type": "markdown",
   "metadata": {},
   "source": [
    "### İstatistiksel olarak aralarında anlamlı bir farklılık olmayan gruplar. Ho > 0.05"
   ]
  },
  {
   "cell_type": "code",
   "execution_count": 23,
   "metadata": {},
   "outputs": [
    {
     "data": {
      "text/html": [
       "<div>\n",
       "<style scoped>\n",
       "    .dataframe tbody tr th:only-of-type {\n",
       "        vertical-align: middle;\n",
       "    }\n",
       "\n",
       "    .dataframe tbody tr th {\n",
       "        vertical-align: top;\n",
       "    }\n",
       "\n",
       "    .dataframe thead th {\n",
       "        text-align: right;\n",
       "    }\n",
       "</style>\n",
       "<table border=\"1\" class=\"dataframe\">\n",
       "  <thead>\n",
       "    <tr style=\"text-align: right;\">\n",
       "      <th></th>\n",
       "      <th>Test Tipi</th>\n",
       "      <th>Grup Karşılaştırması</th>\n",
       "      <th>p-value</th>\n",
       "      <th>GroupA Mean</th>\n",
       "      <th>GroupB Mean</th>\n",
       "      <th>GroupA Median</th>\n",
       "      <th>GroupB Median</th>\n",
       "      <th>GroupA Count</th>\n",
       "      <th>GroupB Count</th>\n",
       "    </tr>\n",
       "  </thead>\n",
       "  <tbody>\n",
       "    <tr>\n",
       "      <th>(361254, 874521)</th>\n",
       "      <td>Non-Parametrik</td>\n",
       "      <td>Fark Yok</td>\n",
       "      <td>0.0909</td>\n",
       "      <td>35.4773</td>\n",
       "      <td>39.2732</td>\n",
       "      <td>34.4565</td>\n",
       "      <td>34.2036</td>\n",
       "      <td>615</td>\n",
       "      <td>728</td>\n",
       "    </tr>\n",
       "    <tr>\n",
       "      <th>(361254, 675201)</th>\n",
       "      <td>Non-Parametrik</td>\n",
       "      <td>Fark Yok</td>\n",
       "      <td>0.3708</td>\n",
       "      <td>35.4773</td>\n",
       "      <td>37.4436</td>\n",
       "      <td>34.4565</td>\n",
       "      <td>33.7259</td>\n",
       "      <td>615</td>\n",
       "      <td>129</td>\n",
       "    </tr>\n",
       "    <tr>\n",
       "      <th>(361254, 201436)</th>\n",
       "      <td>Non-Parametrik</td>\n",
       "      <td>Fark Yok</td>\n",
       "      <td>0.4354</td>\n",
       "      <td>35.4773</td>\n",
       "      <td>36.1755</td>\n",
       "      <td>34.4565</td>\n",
       "      <td>33.5347</td>\n",
       "      <td>615</td>\n",
       "      <td>97</td>\n",
       "    </tr>\n",
       "    <tr>\n",
       "      <th>(874521, 675201)</th>\n",
       "      <td>Non-Parametrik</td>\n",
       "      <td>Fark Yok</td>\n",
       "      <td>0.3623</td>\n",
       "      <td>39.2732</td>\n",
       "      <td>37.4436</td>\n",
       "      <td>34.2036</td>\n",
       "      <td>33.7259</td>\n",
       "      <td>728</td>\n",
       "      <td>129</td>\n",
       "    </tr>\n",
       "    <tr>\n",
       "      <th>(874521, 201436)</th>\n",
       "      <td>Non-Parametrik</td>\n",
       "      <td>Fark Yok</td>\n",
       "      <td>0.2772</td>\n",
       "      <td>39.2732</td>\n",
       "      <td>36.1755</td>\n",
       "      <td>34.2036</td>\n",
       "      <td>33.5347</td>\n",
       "      <td>728</td>\n",
       "      <td>97</td>\n",
       "    </tr>\n",
       "    <tr>\n",
       "      <th>(675201, 201436)</th>\n",
       "      <td>Non-Parametrik</td>\n",
       "      <td>Fark Yok</td>\n",
       "      <td>0.3905</td>\n",
       "      <td>37.4436</td>\n",
       "      <td>36.1755</td>\n",
       "      <td>33.7259</td>\n",
       "      <td>33.5347</td>\n",
       "      <td>129</td>\n",
       "      <td>97</td>\n",
       "    </tr>\n",
       "  </tbody>\n",
       "</table>\n",
       "</div>"
      ],
      "text/plain": [
       "                       Test Tipi Grup Karşılaştırması  p-value  GroupA Mean  \\\n",
       "(361254, 874521)  Non-Parametrik             Fark Yok   0.0909      35.4773   \n",
       "(361254, 675201)  Non-Parametrik             Fark Yok   0.3708      35.4773   \n",
       "(361254, 201436)  Non-Parametrik             Fark Yok   0.4354      35.4773   \n",
       "(874521, 675201)  Non-Parametrik             Fark Yok   0.3623      39.2732   \n",
       "(874521, 201436)  Non-Parametrik             Fark Yok   0.2772      39.2732   \n",
       "(675201, 201436)  Non-Parametrik             Fark Yok   0.3905      37.4436   \n",
       "\n",
       "                  GroupB Mean  GroupA Median  GroupB Median  GroupA Count  \\\n",
       "(361254, 874521)      39.2732        34.4565        34.2036           615   \n",
       "(361254, 675201)      37.4436        34.4565        33.7259           615   \n",
       "(361254, 201436)      36.1755        34.4565        33.5347           615   \n",
       "(874521, 675201)      37.4436        34.2036        33.7259           728   \n",
       "(874521, 201436)      36.1755        34.2036        33.5347           728   \n",
       "(675201, 201436)      36.1755        33.7259        33.5347           129   \n",
       "\n",
       "                  GroupB Count  \n",
       "(361254, 874521)           728  \n",
       "(361254, 675201)           129  \n",
       "(361254, 201436)            97  \n",
       "(874521, 675201)           129  \n",
       "(874521, 201436)            97  \n",
       "(675201, 201436)            97  "
      ]
     },
     "execution_count": 23,
     "metadata": {},
     "output_type": "execute_result"
    }
   ],
   "source": [
    "AB[AB[\"Grup Karşılaştırması\"] == \"Fark Yok\"]"
   ]
  },
  {
   "cell_type": "markdown",
   "metadata": {},
   "source": [
    "### Karşılaştırma"
   ]
  },
  {
   "cell_type": "code",
   "execution_count": 24,
   "metadata": {},
   "outputs": [
    {
     "data": {
      "text/html": [
       "<div>\n",
       "<style scoped>\n",
       "    .dataframe tbody tr th:only-of-type {\n",
       "        vertical-align: middle;\n",
       "    }\n",
       "\n",
       "    .dataframe tbody tr th {\n",
       "        vertical-align: top;\n",
       "    }\n",
       "\n",
       "    .dataframe thead th {\n",
       "        text-align: right;\n",
       "    }\n",
       "</style>\n",
       "<table border=\"1\" class=\"dataframe\">\n",
       "  <thead>\n",
       "    <tr style=\"text-align: right;\">\n",
       "      <th></th>\n",
       "      <th>Different</th>\n",
       "    </tr>\n",
       "  </thead>\n",
       "  <tbody>\n",
       "    <tr>\n",
       "      <th>0</th>\n",
       "      <td>(489756, 361254)</td>\n",
       "    </tr>\n",
       "    <tr>\n",
       "      <th>1</th>\n",
       "      <td>(489756, 874521)</td>\n",
       "    </tr>\n",
       "    <tr>\n",
       "      <th>2</th>\n",
       "      <td>(489756, 326584)</td>\n",
       "    </tr>\n",
       "    <tr>\n",
       "      <th>3</th>\n",
       "      <td>(489756, 675201)</td>\n",
       "    </tr>\n",
       "    <tr>\n",
       "      <th>4</th>\n",
       "      <td>(489756, 201436)</td>\n",
       "    </tr>\n",
       "    <tr>\n",
       "      <th>5</th>\n",
       "      <td>(361254, 326584)</td>\n",
       "    </tr>\n",
       "    <tr>\n",
       "      <th>6</th>\n",
       "      <td>(874521, 326584)</td>\n",
       "    </tr>\n",
       "    <tr>\n",
       "      <th>7</th>\n",
       "      <td>(326584, 675201)</td>\n",
       "    </tr>\n",
       "    <tr>\n",
       "      <th>8</th>\n",
       "      <td>(326584, 201436)</td>\n",
       "    </tr>\n",
       "  </tbody>\n",
       "</table>\n",
       "</div>"
      ],
      "text/plain": [
       "          Different\n",
       "0  (489756, 361254)\n",
       "1  (489756, 874521)\n",
       "2  (489756, 326584)\n",
       "3  (489756, 675201)\n",
       "4  (489756, 201436)\n",
       "5  (361254, 326584)\n",
       "6  (874521, 326584)\n",
       "7  (326584, 675201)\n",
       "8  (326584, 201436)"
      ]
     },
     "execution_count": 24,
     "metadata": {},
     "output_type": "execute_result"
    }
   ],
   "source": [
    "Fark_var = AB[AB[\"Grup Karşılaştırması\"] == \"Fark Var\"].index\n",
    "Fark_var = pd.DataFrame({\"Different\": Fark_var})\n",
    "Fark_var"
   ]
  },
  {
   "cell_type": "code",
   "execution_count": 25,
   "metadata": {},
   "outputs": [
    {
     "data": {
      "text/html": [
       "<div>\n",
       "<style scoped>\n",
       "    .dataframe tbody tr th:only-of-type {\n",
       "        vertical-align: middle;\n",
       "    }\n",
       "\n",
       "    .dataframe tbody tr th {\n",
       "        vertical-align: top;\n",
       "    }\n",
       "\n",
       "    .dataframe thead th {\n",
       "        text-align: right;\n",
       "    }\n",
       "</style>\n",
       "<table border=\"1\" class=\"dataframe\">\n",
       "  <thead>\n",
       "    <tr style=\"text-align: right;\">\n",
       "      <th></th>\n",
       "      <th>No Difference</th>\n",
       "    </tr>\n",
       "  </thead>\n",
       "  <tbody>\n",
       "    <tr>\n",
       "      <th>0</th>\n",
       "      <td>(361254, 874521)</td>\n",
       "    </tr>\n",
       "    <tr>\n",
       "      <th>1</th>\n",
       "      <td>(361254, 675201)</td>\n",
       "    </tr>\n",
       "    <tr>\n",
       "      <th>2</th>\n",
       "      <td>(361254, 201436)</td>\n",
       "    </tr>\n",
       "    <tr>\n",
       "      <th>3</th>\n",
       "      <td>(874521, 675201)</td>\n",
       "    </tr>\n",
       "    <tr>\n",
       "      <th>4</th>\n",
       "      <td>(874521, 201436)</td>\n",
       "    </tr>\n",
       "    <tr>\n",
       "      <th>5</th>\n",
       "      <td>(675201, 201436)</td>\n",
       "    </tr>\n",
       "  </tbody>\n",
       "</table>\n",
       "</div>"
      ],
      "text/plain": [
       "      No Difference\n",
       "0  (361254, 874521)\n",
       "1  (361254, 675201)\n",
       "2  (361254, 201436)\n",
       "3  (874521, 675201)\n",
       "4  (874521, 201436)\n",
       "5  (675201, 201436)"
      ]
     },
     "execution_count": 25,
     "metadata": {},
     "output_type": "execute_result"
    }
   ],
   "source": [
    "Fark_yok = AB[AB[\"Grup Karşılaştırması\"] == \"Fark Yok\"].index\n",
    "Fark_yok = pd.DataFrame({\"No Difference\": Fark_yok})\n",
    "Fark_yok"
   ]
  },
  {
   "cell_type": "markdown",
   "metadata": {},
   "source": [
    "Kendi aralarında benzer olan kategoriler;\n",
    "- 361254\n",
    "- 874521\n",
    "- 675201\n",
    "- 201436\n"
   ]
  },
  {
   "cell_type": "markdown",
   "metadata": {},
   "source": [
    "Diğerlerinden farklı olan kategoriler;\n",
    "\n",
    "- 489756\n",
    "- 326584"
   ]
  },
  {
   "cell_type": "markdown",
   "metadata": {},
   "source": [
    "Görüldüğü gibi itemin fiyatı kategorilere göre farklılık göstermektedir"
   ]
  },
  {
   "cell_type": "markdown",
   "metadata": {},
   "source": [
    "---\n",
    "# 2. İtem Fiyatı Ne Olmalı?"
   ]
  },
  {
   "cell_type": "code",
   "execution_count": 26,
   "metadata": {},
   "outputs": [
    {
     "data": {
      "text/html": [
       "<div>\n",
       "<style scoped>\n",
       "    .dataframe tbody tr th:only-of-type {\n",
       "        vertical-align: middle;\n",
       "    }\n",
       "\n",
       "    .dataframe tbody tr th {\n",
       "        vertical-align: top;\n",
       "    }\n",
       "\n",
       "    .dataframe thead tr th {\n",
       "        text-align: left;\n",
       "    }\n",
       "\n",
       "    .dataframe thead tr:last-of-type th {\n",
       "        text-align: right;\n",
       "    }\n",
       "</style>\n",
       "<table border=\"1\" class=\"dataframe\">\n",
       "  <thead>\n",
       "    <tr>\n",
       "      <th></th>\n",
       "      <th colspan=\"5\" halign=\"left\">price</th>\n",
       "    </tr>\n",
       "    <tr>\n",
       "      <th></th>\n",
       "      <th>mean</th>\n",
       "      <th>median</th>\n",
       "      <th>min</th>\n",
       "      <th>max</th>\n",
       "      <th>count</th>\n",
       "    </tr>\n",
       "    <tr>\n",
       "      <th>category_id</th>\n",
       "      <th></th>\n",
       "      <th></th>\n",
       "      <th></th>\n",
       "      <th></th>\n",
       "      <th></th>\n",
       "    </tr>\n",
       "  </thead>\n",
       "  <tbody>\n",
       "    <tr>\n",
       "      <th>201436</th>\n",
       "      <td>36.1755</td>\n",
       "      <td>33.5347</td>\n",
       "      <td>30.0000</td>\n",
       "      <td>74.4529</td>\n",
       "      <td>97</td>\n",
       "    </tr>\n",
       "    <tr>\n",
       "      <th>326584</th>\n",
       "      <td>35.6932</td>\n",
       "      <td>31.7060</td>\n",
       "      <td>30.0000</td>\n",
       "      <td>103.3825</td>\n",
       "      <td>144</td>\n",
       "    </tr>\n",
       "    <tr>\n",
       "      <th>361254</th>\n",
       "      <td>35.4773</td>\n",
       "      <td>34.4565</td>\n",
       "      <td>30.0000</td>\n",
       "      <td>111.5184</td>\n",
       "      <td>615</td>\n",
       "    </tr>\n",
       "    <tr>\n",
       "      <th>489756</th>\n",
       "      <td>43.6040</td>\n",
       "      <td>35.3991</td>\n",
       "      <td>10.0000</td>\n",
       "      <td>186.7400</td>\n",
       "      <td>1658</td>\n",
       "    </tr>\n",
       "    <tr>\n",
       "      <th>675201</th>\n",
       "      <td>37.4436</td>\n",
       "      <td>33.7259</td>\n",
       "      <td>30.0000</td>\n",
       "      <td>92.8926</td>\n",
       "      <td>129</td>\n",
       "    </tr>\n",
       "    <tr>\n",
       "      <th>874521</th>\n",
       "      <td>39.2732</td>\n",
       "      <td>34.2036</td>\n",
       "      <td>10.0000</td>\n",
       "      <td>187.4451</td>\n",
       "      <td>728</td>\n",
       "    </tr>\n",
       "  </tbody>\n",
       "</table>\n",
       "</div>"
      ],
      "text/plain": [
       "              price                               \n",
       "               mean  median     min      max count\n",
       "category_id                                       \n",
       "201436      36.1755 33.5347 30.0000  74.4529    97\n",
       "326584      35.6932 31.7060 30.0000 103.3825   144\n",
       "361254      35.4773 34.4565 30.0000 111.5184   615\n",
       "489756      43.6040 35.3991 10.0000 186.7400  1658\n",
       "675201      37.4436 33.7259 30.0000  92.8926   129\n",
       "874521      39.2732 34.2036 10.0000 187.4451   728"
      ]
     },
     "execution_count": 26,
     "metadata": {},
     "output_type": "execute_result"
    }
   ],
   "source": [
    "df2.groupby([\"category_id\"]).agg({\"price\":[\"mean\",\"median\",\"min\",\"max\",\"count\"]})"
   ]
  },
  {
   "cell_type": "markdown",
   "metadata": {},
   "source": [
    "<a>\n",
    "    <img src=\"https://www.oguzerdogan.com/wp-content/uploads/2020/11/Adsiz.png\" width=50%>\n",
    "</a>"
   ]
  },
  {
   "cell_type": "markdown",
   "metadata": {},
   "source": [
    "<div class=\"alert alert-warning\" role=\"alert\" style=\"margin-top: 20px\">\n",
    "\n",
    "İlk olarak bütün hepsine aynı fiyat politikasını uygulayacağım, fakat fiyat çeşitlendirmelerini inceleyeceğim.\n",
    "\n",
    "Fiyat olarak;\n",
    "\n",
    "- grupların güven aralıkları değerleri verilebilir.\n",
    "\n",
    "- grupların ortalama fiyatı verilebilir.\n",
    "\n",
    "- grupların medianlarının ortalaması verilebilir.\n",
    "\n",
    "\n",
    "Ekstra senaryo:\n",
    "\n",
    "- Diğerlerinden farklılık gösteren kategorileri ayırıp yukarıdaki gibi bir çeşitlendirme yapacağım.\n",
    "</div>"
   ]
  },
  {
   "cell_type": "markdown",
   "metadata": {},
   "source": [
    "### CATEGORY ID: 326584"
   ]
  },
  {
   "cell_type": "code",
   "execution_count": 27,
   "metadata": {},
   "outputs": [
    {
     "data": {
      "text/html": [
       "<div>\n",
       "<style scoped>\n",
       "    .dataframe tbody tr th:only-of-type {\n",
       "        vertical-align: middle;\n",
       "    }\n",
       "\n",
       "    .dataframe tbody tr th {\n",
       "        vertical-align: top;\n",
       "    }\n",
       "\n",
       "    .dataframe thead th {\n",
       "        text-align: right;\n",
       "    }\n",
       "</style>\n",
       "<table border=\"1\" class=\"dataframe\">\n",
       "  <thead>\n",
       "    <tr style=\"text-align: right;\">\n",
       "      <th></th>\n",
       "      <th>category_id</th>\n",
       "      <th>price</th>\n",
       "    </tr>\n",
       "  </thead>\n",
       "  <tbody>\n",
       "    <tr>\n",
       "      <th>count</th>\n",
       "      <td>144.0000</td>\n",
       "      <td>144.0000</td>\n",
       "    </tr>\n",
       "    <tr>\n",
       "      <th>mean</th>\n",
       "      <td>326584.0000</td>\n",
       "      <td>35.6932</td>\n",
       "    </tr>\n",
       "    <tr>\n",
       "      <th>std</th>\n",
       "      <td>0.0000</td>\n",
       "      <td>12.0397</td>\n",
       "    </tr>\n",
       "    <tr>\n",
       "      <th>min</th>\n",
       "      <td>326584.0000</td>\n",
       "      <td>30.0000</td>\n",
       "    </tr>\n",
       "    <tr>\n",
       "      <th>5%</th>\n",
       "      <td>326584.0000</td>\n",
       "      <td>30.0000</td>\n",
       "    </tr>\n",
       "    <tr>\n",
       "      <th>10%</th>\n",
       "      <td>326584.0000</td>\n",
       "      <td>30.0000</td>\n",
       "    </tr>\n",
       "    <tr>\n",
       "      <th>25%</th>\n",
       "      <td>326584.0000</td>\n",
       "      <td>30.0000</td>\n",
       "    </tr>\n",
       "    <tr>\n",
       "      <th>50%</th>\n",
       "      <td>326584.0000</td>\n",
       "      <td>31.7060</td>\n",
       "    </tr>\n",
       "    <tr>\n",
       "      <th>75%</th>\n",
       "      <td>326584.0000</td>\n",
       "      <td>35.0000</td>\n",
       "    </tr>\n",
       "    <tr>\n",
       "      <th>80%</th>\n",
       "      <td>326584.0000</td>\n",
       "      <td>35.0000</td>\n",
       "    </tr>\n",
       "    <tr>\n",
       "      <th>90%</th>\n",
       "      <td>326584.0000</td>\n",
       "      <td>46.0324</td>\n",
       "    </tr>\n",
       "    <tr>\n",
       "      <th>95%</th>\n",
       "      <td>326584.0000</td>\n",
       "      <td>61.9983</td>\n",
       "    </tr>\n",
       "    <tr>\n",
       "      <th>99%</th>\n",
       "      <td>326584.0000</td>\n",
       "      <td>91.0755</td>\n",
       "    </tr>\n",
       "    <tr>\n",
       "      <th>max</th>\n",
       "      <td>326584.0000</td>\n",
       "      <td>103.3825</td>\n",
       "    </tr>\n",
       "  </tbody>\n",
       "</table>\n",
       "</div>"
      ],
      "text/plain": [
       "       category_id    price\n",
       "count     144.0000 144.0000\n",
       "mean   326584.0000  35.6932\n",
       "std         0.0000  12.0397\n",
       "min    326584.0000  30.0000\n",
       "5%     326584.0000  30.0000\n",
       "10%    326584.0000  30.0000\n",
       "25%    326584.0000  30.0000\n",
       "50%    326584.0000  31.7060\n",
       "75%    326584.0000  35.0000\n",
       "80%    326584.0000  35.0000\n",
       "90%    326584.0000  46.0324\n",
       "95%    326584.0000  61.9983\n",
       "99%    326584.0000  91.0755\n",
       "max    326584.0000 103.3825"
      ]
     },
     "execution_count": 27,
     "metadata": {},
     "output_type": "execute_result"
    }
   ],
   "source": [
    "# CATEGORY ID: 326584\n",
    "df_32 = df2[df2[\"category_id\"] == 326584]\n",
    "df_32.describe([0.05, 0.10, 0.25, 0.50, 0.75, 0.80, 0.90, 0.95, 0.99])"
   ]
  },
  {
   "cell_type": "code",
   "execution_count": 28,
   "metadata": {},
   "outputs": [
    {
     "data": {
      "image/png": "[encoded data removed]",
      "text/plain": [
       "<Figure size 432x288 with 1 Axes>"
      ]
     },
     "metadata": {},
     "output_type": "display_data"
    }
   ],
   "source": [
    "df_32.hist(column=\"price\",bins=5);"
   ]
  },
  {
   "cell_type": "markdown",
   "metadata": {},
   "source": [
    "### CATEGORY ID: 489756"
   ]
  },
  {
   "cell_type": "code",
   "execution_count": 29,
   "metadata": {},
   "outputs": [
    {
     "data": {
      "text/html": [
       "<div>\n",
       "<style scoped>\n",
       "    .dataframe tbody tr th:only-of-type {\n",
       "        vertical-align: middle;\n",
       "    }\n",
       "\n",
       "    .dataframe tbody tr th {\n",
       "        vertical-align: top;\n",
       "    }\n",
       "\n",
       "    .dataframe thead th {\n",
       "        text-align: right;\n",
       "    }\n",
       "</style>\n",
       "<table border=\"1\" class=\"dataframe\">\n",
       "  <thead>\n",
       "    <tr style=\"text-align: right;\">\n",
       "      <th></th>\n",
       "      <th>category_id</th>\n",
       "      <th>price</th>\n",
       "    </tr>\n",
       "  </thead>\n",
       "  <tbody>\n",
       "    <tr>\n",
       "      <th>count</th>\n",
       "      <td>1658.0000</td>\n",
       "      <td>1658.0000</td>\n",
       "    </tr>\n",
       "    <tr>\n",
       "      <th>mean</th>\n",
       "      <td>489756.0000</td>\n",
       "      <td>43.6040</td>\n",
       "    </tr>\n",
       "    <tr>\n",
       "      <th>std</th>\n",
       "      <td>0.0000</td>\n",
       "      <td>20.8350</td>\n",
       "    </tr>\n",
       "    <tr>\n",
       "      <th>min</th>\n",
       "      <td>489756.0000</td>\n",
       "      <td>10.0000</td>\n",
       "    </tr>\n",
       "    <tr>\n",
       "      <th>5%</th>\n",
       "      <td>489756.0000</td>\n",
       "      <td>30.0000</td>\n",
       "    </tr>\n",
       "    <tr>\n",
       "      <th>10%</th>\n",
       "      <td>489756.0000</td>\n",
       "      <td>30.0000</td>\n",
       "    </tr>\n",
       "    <tr>\n",
       "      <th>25%</th>\n",
       "      <td>489756.0000</td>\n",
       "      <td>32.5966</td>\n",
       "    </tr>\n",
       "    <tr>\n",
       "      <th>50%</th>\n",
       "      <td>489756.0000</td>\n",
       "      <td>35.3991</td>\n",
       "    </tr>\n",
       "    <tr>\n",
       "      <th>75%</th>\n",
       "      <td>489756.0000</td>\n",
       "      <td>46.0371</td>\n",
       "    </tr>\n",
       "    <tr>\n",
       "      <th>80%</th>\n",
       "      <td>489756.0000</td>\n",
       "      <td>49.9783</td>\n",
       "    </tr>\n",
       "    <tr>\n",
       "      <th>90%</th>\n",
       "      <td>489756.0000</td>\n",
       "      <td>65.3527</td>\n",
       "    </tr>\n",
       "    <tr>\n",
       "      <th>95%</th>\n",
       "      <td>489756.0000</td>\n",
       "      <td>84.6497</td>\n",
       "    </tr>\n",
       "    <tr>\n",
       "      <th>99%</th>\n",
       "      <td>489756.0000</td>\n",
       "      <td>139.4939</td>\n",
       "    </tr>\n",
       "    <tr>\n",
       "      <th>max</th>\n",
       "      <td>489756.0000</td>\n",
       "      <td>186.7400</td>\n",
       "    </tr>\n",
       "  </tbody>\n",
       "</table>\n",
       "</div>"
      ],
      "text/plain": [
       "       category_id     price\n",
       "count    1658.0000 1658.0000\n",
       "mean   489756.0000   43.6040\n",
       "std         0.0000   20.8350\n",
       "min    489756.0000   10.0000\n",
       "5%     489756.0000   30.0000\n",
       "10%    489756.0000   30.0000\n",
       "25%    489756.0000   32.5966\n",
       "50%    489756.0000   35.3991\n",
       "75%    489756.0000   46.0371\n",
       "80%    489756.0000   49.9783\n",
       "90%    489756.0000   65.3527\n",
       "95%    489756.0000   84.6497\n",
       "99%    489756.0000  139.4939\n",
       "max    489756.0000  186.7400"
      ]
     },
     "execution_count": 29,
     "metadata": {},
     "output_type": "execute_result"
    }
   ],
   "source": [
    "# CATEGORY ID: 489756\n",
    "df_48 = df2[df2[\"category_id\"] == 489756]\n",
    "df_48.describe([0.05, 0.10, 0.25, 0.50, 0.75, 0.80, 0.90, 0.95, 0.99])"
   ]
  },
  {
   "cell_type": "code",
   "execution_count": 30,
   "metadata": {},
   "outputs": [
    {
     "data": {
      "image/png": "[encoded data removed]",
      "text/plain": [
       "<Figure size 432x288 with 1 Axes>"
      ]
     },
     "metadata": {},
     "output_type": "display_data"
    }
   ],
   "source": [
    "df_48.hist(column=\"price\",bins=5);"
   ]
  },
  {
   "cell_type": "markdown",
   "metadata": {},
   "source": [
    "---\n",
    "# Tüm Kategorilere Aynı Fiyat İçin Fiyat Katalogu"
   ]
  },
  {
   "cell_type": "markdown",
   "metadata": {},
   "source": [
    "<div class=\"alert alert-success\" role=\"alert\">\n",
    "<p>Bu kısımda kategoriler arasındaki farka bakmaksızın bütün kategoriler için;</p>\n",
    "<ul>\n",
    "<li>Güven aralığının <b>en düşük</b> limit değeri:</li>\n",
    "<li>Güven aralığının <b>orta</b> değeri:</li>\n",
    "<li>Güven aralığının <b>en yüksek</b> limit değeri:</li>\n",
    "<li>Kategorilerin <b>mean</b> değerlerinin ortalamaları</li>\n",
    "<li>Kategorilerin <b>median</b> değerlerinin ortalamaları</li>\n",
    "    \n",
    "</ul>\n",
    "<p>Fiyat kataloguna yarımcı fonksiyonlar ile eklenecek ve sonucunda bu fiyatlara göre olan satışlar simule edilecektir</p>\n",
    "\n",
    "</div>"
   ]
  },
  {
   "cell_type": "code",
   "execution_count": 91,
   "metadata": {},
   "outputs": [],
   "source": [
    "# bu fonksiyon kategoriler arasındaki ortalamaların veya medianların ortalamasını alıyor\n",
    "def fiyat_belirleme(dataframe, category=\"category_id\", target=\"price\", method=\"median\"):\n",
    "    toplam = 0\n",
    "    if method == \"mean\":\n",
    "        for i in dataframe[category].unique():\n",
    "            toplam = toplam + dataframe[dataframe[category] == i][target].mean()\n",
    "    if method == \"median\":\n",
    "        for i in dataframe[category].unique():\n",
    "            toplam = toplam + dataframe[dataframe[category] == i][target].median()   \n",
    "    return (toplam / dataframe[category].nunique())"
   ]
  },
  {
   "cell_type": "markdown",
   "metadata": {},
   "source": [
    "## Fiyat: Tüm Kategorilerin Fiyat Listeleri"
   ]
  },
  {
   "cell_type": "code",
   "execution_count": 33,
   "metadata": {},
   "outputs": [],
   "source": [
    "# Bu fonksiyon ilgili dataframein güven aralıklarını, mean ve median değerlerini bir listeye ekliyor. bu değerler frekans sayıları ile çarpılıp gelir tahmini yapılacak.\n",
    "def price_list(dataframe,target,liste):\n",
    "    lower, upper = sms.DescrStatsW(dataframe[target]).tconfint_mean()\n",
    "    mid = (lower + upper) / 2\n",
    "    mean = fiyat_belirleme(dataframe, method=\"mean\")\n",
    "    median = fiyat_belirleme(dataframe, method=\"median\")\n",
    "    liste.append(lower)\n",
    "    liste.append(mid)\n",
    "    liste.append(upper)\n",
    "    liste.append(mean)\n",
    "    liste.append(median)\n",
    "    return liste"
   ]
  },
  {
   "cell_type": "code",
   "execution_count": 34,
   "metadata": {},
   "outputs": [
    {
     "data": {
      "text/plain": [
       "[39.7838594960083,\n",
       " 40.398651625339035,\n",
       " 41.01344375466977,\n",
       " 37.94444677595247,\n",
       " 33.837631079516676]"
      ]
     },
     "execution_count": 34,
     "metadata": {},
     "output_type": "execute_result"
    }
   ],
   "source": [
    "aynı_kategori = []\n",
    "price_list(df2, \"price\",aynı_kategori)"
   ]
  },
  {
   "cell_type": "markdown",
   "metadata": {},
   "source": [
    "<div class=\"alert alert-success\" role=\"alert\">\n",
    "<ul>\n",
    "<li>En düşük limit: 39.7838594960083</li>\n",
    "<li>Orta limit: 40.398651625339035</li>\n",
    "<li>Üst limit: 41.01344375466977</li>\n",
    "<li>Mean değeri: 37.94444677595247</li>\n",
    "<li>Median değeri: 33.837631079516676</li>\n",
    "\n",
    "</ul>\n",
    "</div>"
   ]
  },
  {
   "cell_type": "code",
   "execution_count": 35,
   "metadata": {},
   "outputs": [],
   "source": [
    "# Bu fonksiyon belirtilen eşik fiyatlarına göre fiyat simülasyonunu çıkarıyor\n",
    "def gelir_upd(dataframe,target,th):\n",
    "    frekans = len(dataframe[dataframe[target]>=th]) #güven aralığının eşik noktasından yüksek ve eşit olan satın almaların sayısı\n",
    "    gelir = frekans * th #gelir hesabı\n",
    "    return gelir"
   ]
  },
  {
   "cell_type": "markdown",
   "metadata": {},
   "source": [
    "# TÜM KATEGORİLERE AYNI FİYAT SİMÜLASYONU"
   ]
  },
  {
   "cell_type": "code",
   "execution_count": 36,
   "metadata": {},
   "outputs": [],
   "source": [
    "def satis_simulasyon(fiyat):\n",
    "    count=1\n",
    "    for th in fiyat:\n",
    "        print(count,\"SENARYO | %.4f\" %th ,\"satış fiyatı için gelir tahmini\")\n",
    "        x = gelir_upd(df2,\"price\",th)\n",
    "        print(x)\n",
    "        print(\"\\n\")\n",
    "        count += 1"
   ]
  },
  {
   "cell_type": "code",
   "execution_count": 37,
   "metadata": {},
   "outputs": [
    {
     "name": "stdout",
     "output_type": "stream",
     "text": [
      "1 SENARYO | 39.7839 satış fiyatı için gelir tahmini\n",
      "34532.390042535204\n",
      "\n",
      "\n",
      "2 SENARYO | 40.3987 satış fiyatı için gelir tahmini\n",
      "34177.25927503682\n",
      "\n",
      "\n",
      "3 SENARYO | 41.0134 satış fiyatı için gelir tahmini\n",
      "33138.86255377318\n",
      "\n",
      "\n",
      "4 SENARYO | 37.9444 satış fiyatı için gelir tahmini\n",
      "35781.61330972318\n",
      "\n",
      "\n",
      "5 SENARYO | 33.8376 satış fiyatı için gelir tahmini\n",
      "68013.63846982853\n",
      "\n",
      "\n"
     ]
    }
   ],
   "source": [
    "satis_simulasyon(aynı_kategori)"
   ]
  },
  {
   "cell_type": "markdown",
   "metadata": {},
   "source": [
    "# 📑 SONUÇ"
   ]
  },
  {
   "cell_type": "markdown",
   "metadata": {},
   "source": [
    "<div class=\"alert alert-block alert-info\" style=\"margin-top: 20px\">\n",
    "<p>Sonuç: </p>\n",
    "<p>Tüm kategoriler aynı fiyattan düşünülüp güven aralığı oluşturuldu. Güven aralığının verdiği değerler ile bazı sonuçlar alındı.</p>\n",
    "<ol>\n",
    "<li>SENARYO güven aralığının alt limit fiyatı için gelir: <strong>34532.39</strong> - Satış Fiyatı(39.7839)</li>\n",
    "<li>SENARYO güven aralığının ortanca fiyatı için gelir: <strong>34177.26</strong> - Satış Fiyatı (40.3987)</li>\n",
    "<li>SENARYO güven aralığının üst limit fiyatı için gelir: <strong>33138.86</strong> - Satış Fiyatı (41.0134)</li>\n",
    "\n",
    "</ol>\n",
    "<p>Ayrıca tüm kategorilerin median değerlerinin ortalaması ve mean değerlerinin ortalamasına göre bir fiyat belirlendi.</p>\n",
    "<ol start='4' >\n",
    "<li>SENARYO kategori meanlerinin ortalamasına göre gelir: <strong>35781.61</strong> - Satış Fiyatı (37.9444)</li>\n",
    "<li>SENARYO kategori median ortalamalarına göre gelir: <strong>68013.64</strong> - Satış Fiyatı (33.8376)</li>\n",
    "\n",
    "</ol>\n",
    "<p>&nbsp;</p>\n",
    "<p>Sonuç olarak en iyi gelir: kategorilerin medianlarının ortalaması (33.8376) alınarak yapılan satış oldu. 5. SENARYO. GELİR : <strong>68013.64</strong></p>\n",
    "<p>Güven aralığına göre en iyi sonucu veren satış ise; güven aralığının en alt limiti olan (39.7839) satış fiyatıyla yapılan satış oldu.1. SENARYO GELİR: <strong>34532.39</strong></p>\n",
    "<p>Fakat burada güven aralığına birbirleriyle farkı olan kategoriler de dahil edildi. Bir sonraki aşamada bunları çıkartacağım.</p>\n",
    "<p>&nbsp;</p>\n",
    "</div>"
   ]
  },
  {
   "cell_type": "markdown",
   "metadata": {},
   "source": [
    "---\n",
    "# Farklılık olmayanlara aynı, farklı olan kategorilere ayrı fiyat politikası"
   ]
  },
  {
   "cell_type": "code",
   "execution_count": 38,
   "metadata": {},
   "outputs": [],
   "source": [
    "# birbirleriyle arasında istatistiksel olarak fark olmayan grupları çekiyorum\n",
    "df_36= df2[df2[\"category_id\"]==361254]\n",
    "df_87= df2[df2[\"category_id\"]==874521]\n",
    "df_67= df2[df2[\"category_id\"]==675201]\n",
    "df_20= df2[df2[\"category_id\"]==201436]"
   ]
  },
  {
   "cell_type": "code",
   "execution_count": 39,
   "metadata": {},
   "outputs": [],
   "source": [
    "# bu grupları bir dataframede topluyorum\n",
    "benzer = pd.concat([df_36, df_87, df_67, df_20], axis=0, sort=False)"
   ]
  },
  {
   "cell_type": "code",
   "execution_count": 40,
   "metadata": {},
   "outputs": [
    {
     "data": {
      "text/plain": [
       "874521    728\n",
       "361254    615\n",
       "675201    129\n",
       "201436     97\n",
       "Name: category_id, dtype: int64"
      ]
     },
     "execution_count": 40,
     "metadata": {},
     "output_type": "execute_result"
    }
   ],
   "source": [
    "benzer[\"category_id\"].value_counts()"
   ]
  },
  {
   "cell_type": "markdown",
   "metadata": {},
   "source": [
    "<div class=\"alert alert-success\" role=\"alert\">\n",
    "<p>Bu kısımda kategoriler arasındaki farklardan dolayı;</p>\n",
    "<p>Aralarında istatistiksel olarak farklılık göstermeyen gruplara kendi içerisinde, diğer gruplar ile farklılık gösteren gruplara kendi içerisinde fiyat politikası uygulanmıştır.</p>\n",
    "<p>Sırasıyla fiyat katalogu:</p>\n",
    "<ul>\n",
    "<li>Güven aralığının <strong>en düşük</strong> limit değeri:</li>\n",
    "<li>Güven aralığının <strong>orta</strong> değeri:</li>\n",
    "<li>Güven aralığının <strong>en yüksek</strong> limit değeri:</li>\n",
    "<li>Kategorilerin <strong>mean</strong> değerlerinin ortalamaları</li>\n",
    "<li>Kategorilerin <strong>median</strong> değerlerinin ortalamaları</li>\n",
    "\n",
    "</ul>\n",
    "\n",
    "</div>"
   ]
  },
  {
   "cell_type": "markdown",
   "metadata": {},
   "source": [
    "Ayrı ayrı kategorilerin fiyat katalogunu oluşturuyorum"
   ]
  },
  {
   "cell_type": "code",
   "execution_count": 41,
   "metadata": {},
   "outputs": [
    {
     "data": {
      "text/plain": [
       "[36.710959789791794,\n",
       " 37.44336139203231,\n",
       " 38.17576299427282,\n",
       " 37.09238177238653,\n",
       " 33.9801643426125]"
      ]
     },
     "execution_count": 41,
     "metadata": {},
     "output_type": "execute_result"
    }
   ],
   "source": [
    "# birbirleriyle farklılık bulunmayan kategorilerin fiyat katalogu\n",
    "benzer_list = []\n",
    "price_list(benzer,\"price\",benzer_list)"
   ]
  },
  {
   "cell_type": "code",
   "execution_count": 42,
   "metadata": {},
   "outputs": [
    {
     "data": {
      "text/plain": [
       "[33.709933231454606,\n",
       " 35.693170414655555,\n",
       " 37.6764075978565,\n",
       " 35.69317041465555,\n",
       " 31.706022729350003]"
      ]
     },
     "execution_count": 42,
     "metadata": {},
     "output_type": "execute_result"
    }
   ],
   "source": [
    "# Category 326584 için fiyat eşikleri\n",
    "df_32_list = []\n",
    "price_list(df_32,\"price\",df_32_list)"
   ]
  },
  {
   "cell_type": "code",
   "execution_count": 43,
   "metadata": {},
   "outputs": [
    {
     "data": {
      "text/plain": [
       "[42.60036956376109,\n",
       " 43.60398315151311,\n",
       " 44.607596739265134,\n",
       " 43.60398315151315,\n",
       " 35.3991063773]"
      ]
     },
     "execution_count": 43,
     "metadata": {},
     "output_type": "execute_result"
    }
   ],
   "source": [
    "# Category 489756 için fiyat eşikleri\n",
    "df_48_list = []\n",
    "price_list(df_48,\"price\",df_48_list)"
   ]
  },
  {
   "cell_type": "code",
   "execution_count": 44,
   "metadata": {},
   "outputs": [
    {
     "data": {
      "text/plain": [
       "array([34417.45714084, 31887.9143478 , 30389.26833956, 32345.67480126,\n",
       "       59968.14988503])"
      ]
     },
     "execution_count": 44,
     "metadata": {},
     "output_type": "execute_result"
    }
   ],
   "source": [
    "# birbirleriyle farklı olmayan\n",
    "gelir_benzer = []\n",
    "for th in benzer_list:\n",
    "    gelir1 = gelir_upd(benzer,\"price\",th)\n",
    "    gelir_benzer.append(gelir1)\n",
    "gelir_benzer = np.array(gelir_benzer)\n",
    "\n",
    "# kategori 326584\n",
    "gelir_32 = []\n",
    "for th in df_32_list:\n",
    "    gelir2 = gelir_upd(df_32,\"price\",th)\n",
    "    gelir_32.append(gelir2)\n",
    "gelir_32 = np.array(gelir_32)\n",
    "\n",
    "#kategori 489756 \n",
    "gelir_48 = []\n",
    "for th in df_48_list:\n",
    "    gelir3 = gelir_upd(df_48,\"price\",th)\n",
    "    gelir_48.append(gelir3)\n",
    "gelir_48 = np.array(gelir_48)\n",
    "gelirler = gelir_benzer + gelir_32 + gelir_48\n",
    "gelirler"
   ]
  },
  {
   "cell_type": "code",
   "execution_count": 45,
   "metadata": {},
   "outputs": [],
   "source": [
    "def satis_show(fiyat):\n",
    "    count=1\n",
    "    for i in range(0,5):\n",
    "        print(count,\"SENARYO | gelir tahmini\")\n",
    "        print(gelirler[i])\n",
    "        print(\"\\n\")\n",
    "        count += 1"
   ]
  },
  {
   "cell_type": "code",
   "execution_count": 46,
   "metadata": {},
   "outputs": [
    {
     "name": "stdout",
     "output_type": "stream",
     "text": [
      "1 SENARYO | gelir tahmini\n",
      "34417.457140842096\n",
      "\n",
      "\n",
      "2 SENARYO | gelir tahmini\n",
      "31887.91434779769\n",
      "\n",
      "\n",
      "3 SENARYO | gelir tahmini\n",
      "30389.268339557522\n",
      "\n",
      "\n",
      "4 SENARYO | gelir tahmini\n",
      "32345.67480126304\n",
      "\n",
      "\n",
      "5 SENARYO | gelir tahmini\n",
      "59968.14988503372\n",
      "\n",
      "\n"
     ]
    }
   ],
   "source": [
    "satis_show(gelirler)"
   ]
  },
  {
   "cell_type": "markdown",
   "metadata": {},
   "source": [
    "# 📑 SONUÇ"
   ]
  },
  {
   "cell_type": "markdown",
   "metadata": {},
   "source": [
    "<div class=\"alert alert-block alert-info\" style=\"margin-top: 20px\">\n",
    "<p>Bu kısımda kategoriler arasındaki farklardan dolayı;</p>\n",
    "<p>Aralarında istatistiksel olarak farklılık göstermeyen gruplara kendi içerisinde, diğer gruplar ile farklılık gösteren gruplara kendi içerisinde fiyat politikası uygulanmıştır. Oluşan fiyat kataloğuna göre satış tahminleri sırasıyla:</p>\n",
    "<ol>\n",
    "<li>SENARYO güven aralığının alt limit fiyatı için gelir: <strong>34417.4571</strong> </li>\n",
    "<li>SENARYO güven aralığının ortalama fiyatı için gelir: <strong>31887.9143</strong> </li>\n",
    "<li>SENARYO güven aralığının üst limit fiyatı için gelir: <strong>30389.2683</strong> </li>\n",
    "\n",
    "</ol>\n",
    "<p>Ayrıca tüm kategorilerin median değerlerinin kendi içerisinde ortalaması ve mean değerlerinin kendi ortalamasına göre bir fiyat belirlendi.</p>\n",
    "<ol start='4' >\n",
    "<li>SENARYO kategori mean ortalamalarına göre gelir: <strong>32345.6748</strong> -</li>\n",
    "<li>SENARYO kategori median ortalamalarına göre gelir: <strong>59968.1498</strong> </li>\n",
    "\n",
    "</ol>\n",
    "<p>&nbsp;</p>\n",
    "<p>Sonuç olarak en iyi gelir: kategorilerin kendisi ve kendi aralarındaki medianlarının ortalaması alınarak yapılan satış oldu. 5. SENARYO. GELİR : <strong>59968.1498</strong></p>\n",
    "<p>Güven aralığına göre en iyi sonucu veren satış ise; kategorilerin kendi güven aralığının en alt limiti  satış fiyatıyla yapılan satış oldu.1. SENARYO GELİR: **34417.4571</p>\n",
    "</div>"
   ]
  },
  {
   "cell_type": "markdown",
   "metadata": {},
   "source": [
    "---\n",
    "# Birbirleriyle Aynı olan kategorilere göre fiyat belirlenmesi"
   ]
  },
  {
   "cell_type": "markdown",
   "metadata": {},
   "source": [
    "Bu durumda birbirleriyle istatistiksel olarak fark olmayan kategorilerin değerlerinden fiyat katalogu seçilmiş, farklılık gösteren kategorilere de bu fiyat yapılandırmaları uygulanmıştır."
   ]
  },
  {
   "cell_type": "code",
   "execution_count": 47,
   "metadata": {},
   "outputs": [
    {
     "data": {
      "text/plain": [
       "[36.710959789791794,\n",
       " 37.44336139203231,\n",
       " 38.17576299427282,\n",
       " 37.09238177238653,\n",
       " 33.9801643426125]"
      ]
     },
     "execution_count": 47,
     "metadata": {},
     "output_type": "execute_result"
    }
   ],
   "source": [
    "last_step = []\n",
    "price_list(benzer, \"price\",last_step)"
   ]
  },
  {
   "cell_type": "code",
   "execution_count": 48,
   "metadata": {},
   "outputs": [
    {
     "name": "stdout",
     "output_type": "stream",
     "text": [
      "1 SENARYO | 36.7110 satış fiyatı için gelir tahmini\n",
      "38436.37489991201\n",
      "\n",
      "\n",
      "2 SENARYO | 37.4434 satış fiyatı için gelir tahmini\n",
      "36956.59769393589\n",
      "\n",
      "\n",
      "3 SENARYO | 38.1758 satış fiyatı için gelir tahmini\n",
      "35388.93229569091\n",
      "\n",
      "\n",
      "4 SENARYO | 37.0924 satış fiyatı için gelir tahmini\n",
      "37611.67511719994\n",
      "\n",
      "\n",
      "5 SENARYO | 33.9802 satış fiyatı için gelir tahmini\n",
      "67076.84441231706\n",
      "\n",
      "\n"
     ]
    }
   ],
   "source": [
    "satis_simulasyon(last_step)"
   ]
  },
  {
   "cell_type": "markdown",
   "metadata": {},
   "source": [
    "# 📑 SONUÇ"
   ]
  },
  {
   "cell_type": "markdown",
   "metadata": {},
   "source": [
    "<div class=\"alert alert-block alert-info\" style=\"margin-top: 20px\">\n",
    "<p>İstatistiksel olarak aralarında farklılık bulunmayan grupların fiyatlarına göre güven aralığı belirlendi ve tüm fiyat politikası bu kategorilerin değerlerine göre yapıldı.</p>\n",
    "<ol>\n",
    "<li>SENARYO güven aralığının alt limit fiyatı için gelir: <strong>38436.3748</strong> </li>\n",
    "<li>SENARYO güven aralığının ortanca fiyatı için gelir: <strong>36956.5976</strong> </li>\n",
    "<li>SENARYO güven aralığının üst limit fiyatı için gelir: <strong>35388.9322</strong> </li>\n",
    "\n",
    "</ol>\n",
    "<p>Ayrıca tüm kategorilerin median değerlerinin kendi içerisinde ortalaması ve mean değerlerinin kendi ortalamasına göre bir fiyat belirlendi.</p>\n",
    "<ol start='4' >\n",
    "<li>SENARYO kategori meanlerinin ortalamasına göre gelir: <strong>37611.6751</strong> </li>\n",
    "<li>SENARYO kategori median ortalamalarına göre gelir: <strong>67076.8444</strong> </li>\n",
    "\n",
    "</ol>\n",
    "<p>&nbsp;</p>\n",
    "<p>Sonuç olarak en iyi gelir: farklılık göstermeyen kategorilerin medianlarının ortalaması alınarak yapılan satış oldu. 5. SENARYO. GELİR : <strong>67076.8444</strong></p>\n",
    "<p>Güven aralığına göre en iyi sonucu veren satış ise; farklılık göstermeyen kategorilerin fiyatlarının güven aralığının en alt limiti satış fiyatıyla yapılan satış oldu.1. SENARYO GELİR: <strong>38436.3748</strong></p>\n",
    "</div>"
   ]
  },
  {
   "cell_type": "markdown",
   "metadata": {},
   "source": [
    "# 🗒 ÖZET"
   ]
  },
  {
   "cell_type": "markdown",
   "metadata": {
    "pycharm": {
     "name": "#%% md\n"
    }
   },
   "source": [
    "<div class=\"alert alert-warning\" role=\"alert\" style=\"margin-top: 20px\">\n",
    "<p><strong>Fiyat Katalogları için olası senaryolar incelenmiş en iyi satış miktarları aşağıdaki durumlarda gözlemlenmiştir</strong></p>\n",
    "<hr />\n",
    "    <p><strong>Güven Aralığı Çerçevesinde</strong></p>\n",
    "<p>İstatistiksel olarak aralarında farklılık bulunmayan grupların fiyatlarına göre güven aralığı belirlendi ve tüm fiyat politikası bu kategorilerin değerlerine göre yapıldı.</p>\n",
    "<p>Güven Aralığının alt limit fiyatı için gelir: <strong>38436.3748</strong> - Satış Fiyatı : 36.710959</p>\n",
    "<hr />\n",
    "<p><strong>Güven Aralığının Dışarısında - İstatistiksel olarak anlamlı olmayan geliri yüksek nokta:</strong></p>\n",
    "<p>Tüm kategoriler aynı fiyattan düşünülüp güven aralığı oluşturuldu.</p>\n",
    "<p>\n",
    "Kategori median ortalamalarına göre gelir: <strong>68013.64</strong> - Satış Fiyatı (33.8376)</p>\n",
    "\n",
    "<hr />    \n",
    "<p>Güven Aralığı çerçevesinde tüm senaryolarda en yüksek gelirler <strong>güven düzeyinin alt sınır noktasından</strong> elde edildi.</p>\n",
    "<p>En yüksek gelir: 95% Güven Aralığının alt limit fiyatı için gelir: <strong>38436.3748</strong> - Satış Fiyatı : 36.710959</p>\n",
    "<p>Yeni bir test verisi ile güven aralığının dışarısındaki <strong>yüksek gelir getiren fiyatlar</strong> test edilebilir.</p>\n",
    "</div>"
   ]
  }
 ],
 "metadata": {
  "kernelspec": {
   "display_name": "Python 3",
   "language": "python",
   "name": "python3"
  },
  "language_info": {
   "codemirror_mode": {
    "name": "ipython",
    "version": 3
   },
   "file_extension": ".py",
   "mimetype": "text/x-python",
   "name": "python",
   "nbconvert_exporter": "python",
   "pygments_lexer": "ipython3",
   "version": "3.8.3"
  }
 },
 "nbformat": 4,
 "nbformat_minor": 4
}
